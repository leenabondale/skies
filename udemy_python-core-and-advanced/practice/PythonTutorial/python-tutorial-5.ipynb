{
 "cells": [
  {
   "cell_type": "markdown",
   "metadata": {},
   "source": [
    "# Python Tutorial - Part 5\n",
    "This tutorial is based on [Udemy Python Course](https://www.udemy.com/course/python-core-and-advanced)\n",
    "\n",
    "*Section 21: Date and Time*\n",
    "\n",
    "epoch     Jan 1st, 1970\n",
    "ctime()   time since epoch\n",
    "dateTime"
   ]
  },
  {
   "cell_type": "code",
   "execution_count": 9,
   "metadata": {},
   "outputs": [
    {
     "name": "stdout",
     "output_type": "stream",
     "text": [
      "Time in seconds since Jan 1st, 1970: 1566094851.235737\n",
      "date and time using ctime(): Sat Aug 17 22:20:51 2019\n",
      "Current date is: 17/8/2019\n",
      "Current time is: 22:20:51\n"
     ]
    }
   ],
   "source": [
    "import time, datetime\n",
    "epochseconds=time.time()\n",
    "print(\"Time in seconds since Jan 1st, 1970:\", epochseconds)\n",
    "\n",
    "t=time.ctime(epochseconds)\n",
    "print(\"date and time using ctime():\",t)\n",
    "\n",
    "dt=datetime.datetime.today()\n",
    "print(\"Current date is: {}/{}/{}\".format(dt.day, dt.month, dt.year))\n",
    "print(\"Current time is: {}:{}:{}\".format(dt.hour, dt.minute, dt.second))"
   ]
  },
  {
   "cell_type": "markdown",
   "metadata": {},
   "source": [
    "### Date time Combine"
   ]
  },
  {
   "cell_type": "code",
   "execution_count": 10,
   "metadata": {},
   "outputs": [
    {
     "name": "stdout",
     "output_type": "stream",
     "text": [
      "2019-07-21 12:45:00\n"
     ]
    }
   ],
   "source": [
    "from datetime import *\n",
    "\n",
    "d=date(2019,7,21)\n",
    "t=time(12,45)\n",
    "dt=datetime.combine(d,t)\n",
    "print(dt)"
   ]
  },
  {
   "cell_type": "markdown",
   "metadata": {},
   "source": [
    "### Date sort"
   ]
  },
  {
   "cell_type": "code",
   "execution_count": 15,
   "metadata": {},
   "outputs": [
    {
     "name": "stdout",
     "output_type": "stream",
     "text": [
      "2019-03-18\n",
      "2019-06-09\n",
      "2019-07-21\n"
     ]
    }
   ],
   "source": [
    "from datetime import date\n",
    "import time\n",
    "\n",
    "ldates=[]\n",
    "\n",
    "d1=date(2019,7,21)\n",
    "d2=date(2019,3,18)\n",
    "d3=date(2019,6,9)\n",
    "\n",
    "ldates.append(d1)\n",
    "ldates.append(d2)\n",
    "ldates.append(d3)\n",
    "\n",
    "ldates.sort()\n",
    "\n",
    "for d in ldates:\n",
    "    print(d)"
   ]
  },
  {
   "cell_type": "markdown",
   "metadata": {},
   "source": [
    "### Benchmarking python application"
   ]
  },
  {
   "cell_type": "code",
   "execution_count": 19,
   "metadata": {},
   "outputs": [
    {
     "name": "stdout",
     "output_type": "stream",
     "text": [
      "2019-03-18\n",
      "2019-06-09\n",
      "2019-07-21\n",
      "0.001020949999883669\n"
     ]
    }
   ],
   "source": [
    "from datetime import date\n",
    "import time\n",
    "\n",
    "startTime=time.perf_counter()\n",
    "\n",
    "ldates=[]\n",
    "\n",
    "d1=date(2019,7,21)\n",
    "d2=date(2019,3,18)\n",
    "d3=date(2019,6,9)\n",
    "\n",
    "ldates.append(d1)\n",
    "ldates.append(d2)\n",
    "ldates.append(d3)\n",
    "\n",
    "ldates.sort()\n",
    "\n",
    "# time.sleep(3)\n",
    "for d in ldates:\n",
    "    print(d)\n",
    "    \n",
    "endTime=time.perf_counter()\n",
    "\n",
    "executionTime=endTime-startTime\n",
    "print(executionTime)"
   ]
  },
  {
   "cell_type": "code",
   "execution_count": null,
   "metadata": {},
   "outputs": [],
   "source": []
  }
 ],
 "metadata": {
  "kernelspec": {
   "display_name": "Python 3",
   "language": "python",
   "name": "python3"
  },
  "language_info": {
   "codemirror_mode": {
    "name": "ipython",
    "version": 3
   },
   "file_extension": ".py",
   "mimetype": "text/x-python",
   "name": "python",
   "nbconvert_exporter": "python",
   "pygments_lexer": "ipython3",
   "version": "3.7.3"
  }
 },
 "nbformat": 4,
 "nbformat_minor": 2
}
