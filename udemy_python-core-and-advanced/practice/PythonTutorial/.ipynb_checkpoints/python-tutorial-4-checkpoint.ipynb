{
 "cells": [
  {
   "cell_type": "markdown",
   "metadata": {},
   "source": [
    "# Python Tutorial - Part 4\n",
    "This tutorial is based on [Udemy Python Course](https://www.udemy.com/course/python-core-and-advanced)\n",
    "\n",
    "*Section 20: Regular expressions*"
   ]
  },
  {
   "cell_type": "markdown",
   "metadata": {},
   "source": [
    "## Regular expressions\n",
    "\n",
    "python module (re) methods:\n",
    "- match\n",
    "- search\n",
    "- findall\n",
    "- split\n",
    "- sub\n",
    "\n",
    "#### Sequence characters\n",
    "\n",
    "```python\n",
    "\\d digit-char\n",
    "\\D non-digit-char\n",
    "\\s whitespace\n",
    "\\S non-whitespace\n",
    "\\w alpha-numeric char\n",
    "\\W non-alpha-numeric char\n",
    "\\b space around words\n",
    "\\A matches only at start of the string\n",
    "\\Z matches only at end of the string\n",
    "```\n",
    "\n",
    "1. Sequence characters\n",
    "2. Quantifiers\n",
    "3. Special characters"
   ]
  },
  {
   "cell_type": "markdown",
   "metadata": {},
   "source": [
    "### Search"
   ]
  },
  {
   "cell_type": "code",
   "execution_count": 14,
   "metadata": {},
   "outputs": [
    {
     "name": "stdout",
     "output_type": "stream",
     "text": [
      "result1: oN\n",
      "result2: onder\n",
      "result3: oNe\n"
     ]
    }
   ],
   "source": [
    "import re\n",
    "str=\"Take up oNe one idea. One idea at a time. Of the wonderful world\"\n",
    "result1=re.search(r'o\\w', str)\n",
    "result2=re.search(r'o\\w\\w\\w\\w', str)\n",
    "result3=re.search(r'o\\w\\w', str)\n",
    "print(\"result1: \"+result1.group())\n",
    "print(\"result2: \"+result2.group())\n",
    "print(\"result3: \"+result3.group())"
   ]
  },
  {
   "cell_type": "markdown",
   "metadata": {},
   "source": [
    "### FindAll and Match\n",
    "```\n",
    "findAll: returns all the substrings that matches as a list; else returns empty string\n",
    "match: searches regex right at beginning of the string and returns first match only; else returns None\n",
    "```"
   ]
  },
  {
   "cell_type": "code",
   "execution_count": 2,
   "metadata": {},
   "outputs": [
    {
     "name": "stdout",
     "output_type": "stream",
     "text": [
      "onde\n",
      "['oNe', 'one', 'one', 'ond', 'orl']\n",
      "oNe\n",
      "Tak\n"
     ]
    }
   ],
   "source": [
    "import re\n",
    "str=\"Take up oNe one idea. one idea at a time. Of the wonderful world\"\n",
    "result1=re.search(r'o\\w\\w\\w', str)\n",
    "result2=re.findall(r'o\\w\\w', str)\n",
    "result3=re.search(r'o\\w\\w', str)\n",
    "result4=re.match(r'T\\w\\w', str)\n",
    "\n",
    "# search\n",
    "print(result1.group())\n",
    "# findall does not need .group()\n",
    "print(result2)\n",
    "# search\n",
    "print(result3.group())\n",
    "# match\n",
    "print(result4.group())"
   ]
  },
  {
   "cell_type": "markdown",
   "metadata": {},
   "source": [
    "### Split"
   ]
  },
  {
   "cell_type": "code",
   "execution_count": 35,
   "metadata": {},
   "outputs": [
    {
     "name": "stdout",
     "output_type": "stream",
     "text": [
      "['Take ', ' up oNe ', ' one idea ', ' one idea at a time ', ' Of the wonderful world']\n"
     ]
    }
   ],
   "source": [
    "import re\n",
    "str=\"Take 1 up oNe 2 one idea 3 one idea at a time 4 Of the wonderful world\"\n",
    "result=re.split(r'\\d+', str)\n",
    "print(result)"
   ]
  },
  {
   "cell_type": "markdown",
   "metadata": {},
   "source": [
    "### Substitute"
   ]
  },
  {
   "cell_type": "code",
   "execution_count": 37,
   "metadata": {},
   "outputs": [
    {
     "name": "stdout",
     "output_type": "stream",
     "text": [
      "Take up oNe two idea. two idea at a time. Of the wonderful world\n"
     ]
    }
   ],
   "source": [
    "import re\n",
    "str=\"Take up oNe one idea. one idea at a time. Of the wonderful world\"\n",
    "result=re.sub(r'one','two', str)\n",
    "print(result)"
   ]
  },
  {
   "cell_type": "markdown",
   "metadata": {},
   "source": [
    "### Quantifiers\n",
    "use quantifiers to match more than one\n",
    "```\n",
    "+      one or more repetitions\n",
    "          e.g: \\d+ one or more digits\n",
    "*      zero or more repetitions\n",
    "?      zero or one repetitions\n",
    "{m}    exactly m number of occurrences\n",
    "{m,n}  m is min number of occurrences, n is the maximum\n",
    "```"
   ]
  },
  {
   "cell_type": "code",
   "execution_count": 8,
   "metadata": {},
   "outputs": [
    {
     "name": "stdout",
     "output_type": "stream",
     "text": [
      "\n",
      "re.findall(r'O\\w+', str)\n",
      "['One', 'One', 'Of', 'Only']\n",
      "\n",
      "re.findall(r'o\\w+', str)\n",
      "['onderful', 'orld']\n",
      "\n",
      "re.findall(r'o\\w*', str)\n",
      "['onderful', 'orld']\n",
      "\n",
      "re.findall(r'o\\w?', str)\n",
      "['on', 'or']\n",
      "\n",
      "re.findall(r'o\\w{3}', str)\n",
      "['onde', 'orld']\n",
      "\n",
      "re.findall(r'O\\w{2}', str)\n",
      "['One', 'One', 'Onl']\n",
      "\n",
      "re.findall(r'O\\w{1,2}', str)\n",
      "['One', 'One', 'Of', 'Onl']\n",
      "\n",
      "re.findall(r'O\\w{1,4}', str)\n",
      "['One', 'One', 'Of', 'Only']\n"
     ]
    }
   ],
   "source": [
    "import re\n",
    "str=\"Take up One idea. One idea at a time. Of the wonderful world Only\"\n",
    "\n",
    "print(\"\\nre.findall(r'O\\w+', str)\")\n",
    "result=re.findall(r'O\\w+', str)\n",
    "print(result)\n",
    "print(\"\\nre.findall(r'o\\w+', str)\")\n",
    "result=re.findall(r'o\\w+', str)\n",
    "print(result)\n",
    "print(\"\\nre.findall(r'o\\w*', str)\")\n",
    "result=re.findall(r'o\\w*', str)\n",
    "print(result)\n",
    "print(\"\\nre.findall(r'o\\w?', str)\")\n",
    "result=re.findall(r'o\\w?', str)\n",
    "print(result)\n",
    "print(\"\\nre.findall(r'o\\w{3}', str)\")\n",
    "result=re.findall(r'o\\w{3}', str)\n",
    "print(result)\n",
    "print(\"\\nre.findall(r'O\\w{2}', str)\")\n",
    "result=re.findall(r'O\\w{2}', str)\n",
    "print(result)\n",
    "print(\"\\nre.findall(r'O\\w{1,2}', str)\")\n",
    "result=re.findall(r'O\\w{1,2}', str)\n",
    "print(result)\n",
    "print(\"\\nre.findall(r'O\\w{1,4}', str)\")\n",
    "result=re.findall(r'O\\w{1,4}', str)\n",
    "print(result)"
   ]
  },
  {
   "cell_type": "markdown",
   "metadata": {},
   "source": [
    "### Matching dates\n",
    "```python\n",
    "str=\"22-09-2019\"\n",
    "re.findAll(r'\\d{1,2}-\\d{1,2}-\\d{1,4}',str)\n",
    "```"
   ]
  },
  {
   "cell_type": "code",
   "execution_count": 68,
   "metadata": {},
   "outputs": [
    {
     "name": "stdout",
     "output_type": "stream",
     "text": [
      "['20-09-2019', '12-11-2019']\n"
     ]
    }
   ],
   "source": [
    "import re\n",
    "\n",
    "str=\"Take up One 20-09-2019 idea. One idea at a time. 12-11-2019 Of Only\"\n",
    "result=re.findall(r'\\d{1,2}-\\d{1,2}-\\d{1,4}',str)\n",
    "print(result)"
   ]
  },
  {
   "cell_type": "markdown",
   "metadata": {},
   "source": [
    "### Special characters\n",
    "```\n",
    "\\      escape special characters\n",
    ".      matches any character except new line\n",
    "^      match char right at the beginning of the string\n",
    "$      opposite of ^ match will happen at end of the string\n",
    "[..]   range, if you specify [a..z], then all chars from a to z will match\n",
    "[^..]  opposite of [..]. if [0..6] is specified, it will match everything except 0-6\n",
    "(..)   regular expression\n",
    "(A|B)  matches either regex A or regex B\n",
    "```"
   ]
  },
  {
   "cell_type": "code",
   "execution_count": 24,
   "metadata": {},
   "outputs": [
    {
     "name": "stdout",
     "output_type": "stream",
     "text": [
      "Ta\n",
      "Take\n",
      "['ake', 'a', 'a', 'at', 'a', 'ammaT']\n"
     ]
    }
   ],
   "source": [
    "import re\n",
    "\n",
    "str=\"Take up One 20-09-2019 idea. One idea at a time. 12-11-2019 Of Only TammaT\"\n",
    "# ^ search should happen at the beginning\n",
    "result=re.search(r'^T\\w',str)\n",
    "print(result.group())\n",
    "result=re.search(r'^T\\w*',str)\n",
    "print(result.group())\n",
    "result=re.findall(r'[ab]\\w*',str)\n",
    "print(result)"
   ]
  },
  {
   "cell_type": "code",
   "execution_count": 35,
   "metadata": {},
   "outputs": [
    {
     "name": "stdout",
     "output_type": "stream",
     "text": [
      "The rain in Spain\n",
      "The first white-space character is located in position: 3\n",
      "Split string at the first occurence of white space: ['The', 'rain in Spain']\n",
      "Replace the first two occurences: The_rain_in Spain\n",
      "(12, 17)\n",
      "(11, 17)\n"
     ]
    }
   ],
   "source": [
    "import re\n",
    "\n",
    "txt = \"The rain in Spain\"\n",
    "x = re.search(\"^The.*Spain$\", txt)\n",
    "print(x.group())\n",
    "\n",
    "x = re.search(\"\\s\", txt)\n",
    "print(\"The first white-space character is located in position:\", x.start())\n",
    "\n",
    "x = re.split(\"\\s\", txt, 1)\n",
    "print(\"Split string at the first occurence of white space:\", x)\n",
    "\n",
    "x = re.sub(\"\\s\", \"_\", txt, 2)\n",
    "print(\"Replace the first two occurences:\", x)\n",
    "\n",
    "x = re.search(r\"\\bS\\w+\", txt)\n",
    "print(x.span())\n",
    "\n",
    "x = re.search(r\"\\sS\\w+\", txt)\n",
    "print(x.span()) "
   ]
  },
  {
   "cell_type": "code",
   "execution_count": null,
   "metadata": {},
   "outputs": [],
   "source": []
  }
 ],
 "metadata": {
  "kernelspec": {
   "display_name": "Python 3",
   "language": "python",
   "name": "python3"
  },
  "language_info": {
   "codemirror_mode": {
    "name": "ipython",
    "version": 3
   },
   "file_extension": ".py",
   "mimetype": "text/x-python",
   "name": "python",
   "nbconvert_exporter": "python",
   "pygments_lexer": "ipython3",
   "version": "3.7.3"
  }
 },
 "nbformat": 4,
 "nbformat_minor": 2
}
