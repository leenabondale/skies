{
 "cells": [
  {
   "cell_type": "markdown",
   "metadata": {},
   "source": [
    "# Python Tutorial - Part 2\n",
    "This tutorial is based on [Udemy Python Course](https://www.udemy.com/course/python-core-and-advanced)\n",
    "\n",
    "*Section 13 - Section 17*\n",
    "\n",
    "### Topics covered: Object oriented programming\n",
    "- Encapsulation\n",
    "- Inheritance\n",
    "- Abstraction\n",
    "- Polymorphism"
   ]
  },
  {
   "cell_type": "markdown",
   "metadata": {},
   "source": [
    "### Class"
   ]
  },
  {
   "cell_type": "code",
   "execution_count": 7,
   "metadata": {},
   "outputs": [
    {
     "name": "stdout",
     "output_type": "stream",
     "text": [
      "iPhone awesome 700\n"
     ]
    }
   ],
   "source": [
    "class Product:\n",
    "\n",
    "    def __init__(self):\n",
    "        self.name=\"iPhone\"\n",
    "        self.description=\"awesome\"\n",
    "        self.price=700\n",
    "\n",
    "p1=Product()\n",
    "print(p1.name, p1.description, p1.price)"
   ]
  },
  {
   "cell_type": "markdown",
   "metadata": {},
   "source": [
    "### Constructor and methods"
   ]
  },
  {
   "cell_type": "code",
   "execution_count": 18,
   "metadata": {},
   "outputs": [
    {
     "name": "stdout",
     "output_type": "stream",
     "text": [
      "Python best & free course [4, 4, 3, 4, 1, 5]\n",
      "3.5\n"
     ]
    }
   ],
   "source": [
    "from functools import reduce\n",
    "\n",
    "class Course:\n",
    "\n",
    "    def __init__(self, name, description, ratings):\n",
    "        self.name=name\n",
    "        self.description=description\n",
    "        self.ratings=ratings\n",
    "        \n",
    "    def average(self):\n",
    "        x=reduce(lambda x,y:x+y, self.ratings)\n",
    "        return x/len(self.ratings)\n",
    "#         avg = sum(self.ratings)/len(self.ratings)\n",
    "#         return avg\n",
    "        \n",
    "\n",
    "c1=Course(\"Python\", \"best & free course\", [4, 4, 3, 4, 1, 5])\n",
    "print(c1.name, c1.description, c1.ratings)\n",
    "print(c1.average())"
   ]
  },
  {
   "cell_type": "markdown",
   "metadata": {},
   "source": [
    "### Getter and Setters"
   ]
  },
  {
   "cell_type": "code",
   "execution_count": 28,
   "metadata": {},
   "outputs": [
    {
     "name": "stdout",
     "output_type": "stream",
     "text": [
      "Dumaa 1232 ['python', 'java', 'haskel']\n"
     ]
    }
   ],
   "source": [
    "class Programmer:\n",
    "    \n",
    "    def getName(self):\n",
    "        return self.name\n",
    "    \n",
    "    def getSalary(self):\n",
    "        return self.salary\n",
    "    \n",
    "    def getTechnologies(self):\n",
    "        return self.technologies\n",
    "        \n",
    "    def setName(self, name):\n",
    "        self.name=name\n",
    "    \n",
    "    def setSalary(self, salary):\n",
    "        self.salary=salary\n",
    "    \n",
    "    def setTechnologies(self, technologies):\n",
    "        self.technologies=technologies\n",
    "        \n",
    "p1=Programmer()\n",
    "p1.setName(\"Dumaa\")\n",
    "p1.setSalary(1232)\n",
    "p1.setTechnologies([\"python\", \"java\", \"haskel\"])\n",
    "\n",
    "print(p1.getName(), p1.getSalary(), p1.getTechnologies())"
   ]
  },
  {
   "cell_type": "markdown",
   "metadata": {},
   "source": [
    "### Static variables\n",
    "- create a class Student and major as static variable"
   ]
  },
  {
   "cell_type": "code",
   "execution_count": 29,
   "metadata": {},
   "outputs": [
    {
     "name": "stdout",
     "output_type": "stream",
     "text": [
      "studentID: 11, name: Leon, major: CSE\n",
      "studentID: 12, name: Bamba, major: CSE\n",
      "CSE\n"
     ]
    }
   ],
   "source": [
    "class Student:\n",
    "    major=\"CSE\"\n",
    "    \n",
    "    def __init__(self, studentID, name):\n",
    "        self.studentID=studentID\n",
    "        self.name=name\n",
    "        \n",
    "    def display(self):\n",
    "        print(\"studentID: {}, name: {}, major: {}\".format(self.studentID, self.name, self.major))\n",
    "        \n",
    "s1=Student(11, \"Leon\")\n",
    "s2=Student(12, \"Bamba\")\n",
    "s1.display()\n",
    "s2.display()\n",
    "\n",
    "# accessing static variable using Class\n",
    "print(Student.major)"
   ]
  },
  {
   "cell_type": "markdown",
   "metadata": {},
   "source": [
    "## Object Counter\n",
    "- count the number of objects created"
   ]
  },
  {
   "cell_type": "code",
   "execution_count": 37,
   "metadata": {},
   "outputs": [
    {
     "name": "stdout",
     "output_type": "stream",
     "text": [
      "3\n",
      "3\n"
     ]
    }
   ],
   "source": [
    "class ObjectCounter:\n",
    "    \n",
    "    counter=0\n",
    "    \n",
    "    def __init__(self):\n",
    "        ObjectCounter.counter+=1\n",
    "    \n",
    "    @staticmethod\n",
    "    def display():\n",
    "        print(ObjectCounter.counter)\n",
    "\n",
    "o1=ObjectCounter()\n",
    "o2=ObjectCounter()\n",
    "o3=ObjectCounter()\n",
    "\n",
    "ObjectCounter.display()\n",
    "print(ObjectCounter.counter)"
   ]
  },
  {
   "cell_type": "markdown",
   "metadata": {},
   "source": [
    "### InnerClass\n",
    "- Create class \"Car\" and inner class \"Engine\" and access methods of inner class"
   ]
  },
  {
   "cell_type": "code",
   "execution_count": 42,
   "metadata": {},
   "outputs": [
    {
     "name": "stdout",
     "output_type": "stream",
     "text": [
      "Engine started\n"
     ]
    }
   ],
   "source": [
    "class Car:\n",
    "    def __init__(self, make, model):\n",
    "        self.make=make\n",
    "        self.model=model\n",
    "\n",
    "    class Engine:\n",
    "        def __init__(self, engineNumber):\n",
    "            self.engineNumber=engineNumber\n",
    "        \n",
    "        def start(self):\n",
    "            print(\"Engine started\")\n",
    "\n",
    "c=Car(\"Jetta\", 2012)\n",
    "e=c.Engine(\"E31DS2DEEG\")\n",
    "e.start()"
   ]
  },
  {
   "cell_type": "markdown",
   "metadata": {},
   "source": [
    "### Encapsulation\n",
    "- private variables using \"__\" as prefix\n",
    "- NameMangling to access the private variables; e.g.: s._Student__id"
   ]
  },
  {
   "cell_type": "code",
   "execution_count": 55,
   "metadata": {},
   "outputs": [
    {
     "name": "stdout",
     "output_type": "stream",
     "text": [
      "Leon\n",
      "Leon\n"
     ]
    }
   ],
   "source": [
    "class Student:\n",
    "    \n",
    "    def __init__(self, studentID, name):\n",
    "        self.__studentID=studentID\n",
    "        self.__name=name\n",
    "        \n",
    "    def getName(self):\n",
    "        return self.__name\n",
    "    \n",
    "s1=Student(11, \"Leon\")\n",
    "s2=Student(12, \"Bamba\")\n",
    "\n",
    "## you cannot use private variables like this anymore\n",
    "#print(s1.studentID)\n",
    "\n",
    "print(s1.getName())\n",
    "\n",
    "## another way to access private variable is using NameMangling\n",
    "print(s1._Student__name)"
   ]
  },
  {
   "cell_type": "markdown",
   "metadata": {},
   "source": [
    "### Inheritance\n",
    "- Example: BMW as superclass, BMW-3series and BMW-5series as subclass\n",
    "- Inheritance syntax\n",
    "```python\n",
    "class SubClass(Superclass):\n",
    "```"
   ]
  },
  {
   "cell_type": "code",
   "execution_count": 77,
   "metadata": {},
   "outputs": [
    {
     "name": "stdout",
     "output_type": "stream",
     "text": [
      "True\n",
      "5-level parking\n",
      "Starting the car\n",
      "\n",
      "Invoking display for five series. Since no method in class, invokes super class method\n",
      "**BMW**: make:BMW, model:539i, year:2019\n",
      "\n",
      "Invoking display for three series\n",
      "**ThreeSeries**: make:BMW, model:328i, year:2019, cruiseControlEnabled:True\n",
      "\n",
      "Invoking display for BMW\n",
      "**BMW**: make:BMW, model:328i, year:2019\n"
     ]
    }
   ],
   "source": [
    "class BMW:\n",
    "    def __init__(self, make, model, year):\n",
    "        self.make=make\n",
    "        self.model=model\n",
    "        self.year=year\n",
    "    \n",
    "    def start(self):\n",
    "        print(\"Starting the car\")\n",
    "    \n",
    "    def stop(self):\n",
    "        print(\"Stopping the car\")\n",
    "        \n",
    "    def display(self):\n",
    "        print(\"**BMW**: make:{}, model:{}, year:{}\".format(self.make, self.model, self.year))\n",
    "    \n",
    "class ThreeSeries(BMW):\n",
    "    def __init__(self, cruiseControlEnabled, make, model, year):\n",
    "        BMW.__init__(self, make, model, year)\n",
    "        self.cruiseControlEnabled=cruiseControlEnabled\n",
    "        \n",
    "    def display(self):\n",
    "        print(\"**ThreeSeries**: make:{}, model:{}, year:{}, cruiseControlEnabled:{}\".format(self.make, self.model, self.year, self.cruiseControlEnabled))\n",
    "        \n",
    "class FiveSeries(BMW):\n",
    "    def __init__(self, parkingAssistEnabled, make, model, year):\n",
    "        BMW.__init__(self, make, model, year)\n",
    "        self.parkingAssistEnabled=parkingAssistEnabled\n",
    "\n",
    "\n",
    "t=ThreeSeries(True, \"BMW\", \"328i\", \"2019\")\n",
    "print(t.cruiseControlEnabled)\n",
    "        \n",
    "f=FiveSeries(\"5-level parking\", \"BMW\", \"539i\", \"2019\")\n",
    "print(f.parkingAssistEnabled)\n",
    "\n",
    "f.start()\n",
    "\n",
    "b=BMW(\"BMW\", \"328i\", \"2019\")\n",
    "\n",
    "# Testing method overriding\n",
    "print(\"\\nInvoking display for five series. Since no method in class, invokes super class method\")\n",
    "f.display()\n",
    "print(\"\\nInvoking display for three series\")\n",
    "t.display()\n",
    "print(\"\\nInvoking display for BMW\")\n",
    "b.display()"
   ]
  },
  {
   "cell_type": "markdown",
   "metadata": {},
   "source": [
    "#### invoke super method\n",
    "- using super(); for example: \n",
    "```super.start()```"
   ]
  },
  {
   "cell_type": "markdown",
   "metadata": {},
   "source": [
    "### Polymorphism\n",
    "1. DuckTyping\n",
    "2. DuckTyping for DependencyInjection\n",
    "3. OperatorOverloading\n",
    "4. RuntimePolymorphism (method overriding as seen above - BMW example)"
   ]
  },
  {
   "cell_type": "markdown",
   "metadata": {},
   "source": [
    "#### 1. DuckTyping"
   ]
  },
  {
   "cell_type": "code",
   "execution_count": 80,
   "metadata": {},
   "outputs": [
    {
     "name": "stdout",
     "output_type": "stream",
     "text": [
      "Quack Quack\n",
      "Blah Blah\n"
     ]
    }
   ],
   "source": [
    "class Duck:\n",
    "    def talk(self):\n",
    "        print(\"Quack Quack\")\n",
    "\n",
    "class Human:\n",
    "    def talk(self):\n",
    "        print(\"Blah Blah\")\n",
    "\n",
    "def callTalk(obj):\n",
    "    obj.talk()\n",
    "\n",
    "d=Duck()\n",
    "h=Human()\n",
    "callTalk(d)\n",
    "callTalk(h)"
   ]
  },
  {
   "cell_type": "markdown",
   "metadata": {},
   "source": [
    "#### 2. DuckTyping for DependencyInjection\n",
    "- Class Flight\n",
    "- has engine: BoingEngine or Airbus Engine"
   ]
  },
  {
   "cell_type": "code",
   "execution_count": 83,
   "metadata": {},
   "outputs": [
    {
     "name": "stdout",
     "output_type": "stream",
     "text": [
      "Starting Airbus engine\n",
      "Starting Boing engine\n"
     ]
    }
   ],
   "source": [
    "class Flight:\n",
    "    def __init__(self, engine):\n",
    "        self.engine=engine\n",
    "    \n",
    "    def startEngine(self):\n",
    "        self.engine.start()\n",
    "    \n",
    "class AirbusEngine:\n",
    "    def start(self):\n",
    "        print(\"Starting Airbus engine\")\n",
    "\n",
    "class BoingEngine:\n",
    "    def start(self):\n",
    "        print(\"Starting Boing engine\")\n",
    "\n",
    "a=AirbusEngine()\n",
    "b=BoingEngine()\n",
    "\n",
    "f=Flight(a)\n",
    "f.startEngine()\n",
    "\n",
    "f=Flight(b)\n",
    "f.startEngine()"
   ]
  },
  {
   "cell_type": "markdown",
   "metadata": {},
   "source": [
    "#### 3. Operator Overloading in Python"
   ]
  },
  {
   "cell_type": "code",
   "execution_count": 86,
   "metadata": {},
   "outputs": [
    {
     "name": "stdout",
     "output_type": "stream",
     "text": [
      "60\n",
      "Hello How are you!\n",
      "[12, 32, 11, 3, 4, 8]\n"
     ]
    }
   ],
   "source": [
    "x=40\n",
    "y=20\n",
    "s1=\"Hello \"\n",
    "s2=\"How are you!\"\n",
    "l1=[12, 32, 11]\n",
    "l2=[3,4,8]\n",
    "print(x+y)\n",
    "print(s1+s2)\n",
    "print(l1+l2)"
   ]
  },
  {
   "cell_type": "markdown",
   "metadata": {},
   "source": [
    "#### 4. Runtime Polymorphism\n",
    "- method overloading is a way to achieve runtime polymorphism"
   ]
  },
  {
   "cell_type": "markdown",
   "metadata": {},
   "source": [
    "### Abstract Class and Interfaces\n",
    "- If atleast one method is @abstractmethod, the class is an abstract class\n",
    "- You cannot instantiate abstract class\n",
    "- Concrete classes must define the abstract methods\n",
    "- Interfaces are nothing but abstract class w/ all their methods as @abstractmethod (this is implicit, as compared to Java, where you have to explicitly declare it as Interface\n",
    "\n",
    "**How to set it up**\n",
    "```python\n",
    "from abc import abstractmethod, ABC\n",
    "\n",
    "class BMW(ABC): # to indicate its a abstract class\n",
    "\n",
    "@abstractmethod\n",
    "def drive(self):\n",
    "    pass\n",
    "```"
   ]
  },
  {
   "cell_type": "code",
   "execution_count": 93,
   "metadata": {},
   "outputs": [
    {
     "name": "stdout",
     "output_type": "stream",
     "text": [
      "Driving Three series\n",
      "Driving Five series\n"
     ]
    }
   ],
   "source": [
    "from abc import abstractmethod, ABC\n",
    "\n",
    "class BMW(ABC):\n",
    "    def __init__(self, make, model, year):\n",
    "        self.make=make\n",
    "        self.model=model\n",
    "        self.year=year\n",
    "    \n",
    "    @abstractmethod\n",
    "    def drive(self):\n",
    "        pass\n",
    "    \n",
    "class ThreeSeries(BMW):\n",
    "    def __init__(self, cruiseControlEnabled, make, model, year):\n",
    "        BMW.__init__(self, make, model, year)\n",
    "        self.cruiseControlEnabled=cruiseControlEnabled\n",
    "        \n",
    "    def drive(self):\n",
    "        print(\"Driving Three series\")\n",
    "        \n",
    "class FiveSeries(BMW):\n",
    "    def __init__(self, parkingAssistEnabled, make, model, year):\n",
    "        BMW.__init__(self, make, model, year)\n",
    "        self.parkingAssistEnabled=parkingAssistEnabled\n",
    "        \n",
    "    def drive(self):\n",
    "        print(\"Driving Five series\")\n",
    "\n",
    "t=ThreeSeries(True, \"BMW\", \"328i\", \"2019\")\n",
    "t.drive()\n",
    "f=FiveSeries(\"FiveLevelParking\", \"BMW\", \"328i\", \"2019\")\n",
    "f.drive()"
   ]
  },
  {
   "cell_type": "code",
   "execution_count": null,
   "metadata": {},
   "outputs": [],
   "source": []
  }
 ],
 "metadata": {
  "kernelspec": {
   "display_name": "Python 3",
   "language": "python",
   "name": "python3"
  },
  "language_info": {
   "codemirror_mode": {
    "name": "ipython",
    "version": 3
   },
   "file_extension": ".py",
   "mimetype": "text/x-python",
   "name": "python",
   "nbconvert_exporter": "python",
   "pygments_lexer": "ipython3",
   "version": "3.7.3"
  }
 },
 "nbformat": 4,
 "nbformat_minor": 2
}
