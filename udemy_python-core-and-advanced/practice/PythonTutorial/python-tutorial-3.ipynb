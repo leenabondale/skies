{
 "cells": [
  {
   "cell_type": "markdown",
   "metadata": {},
   "source": [
    "# Python Tutorial - Part 3\n",
    "This tutorial is based on [Udemy Python Course](https://www.udemy.com/course/python-core-and-advanced)\n",
    "\n",
    "*Section 18 - 19*\n",
    "\n",
    "#### Topics covered\n",
    "> 1. Exception handling\n",
    ">     - Log level\n",
    ">     - Assert\n",
    "> 2. Files\n",
    "> 3. Serialization-Deserialization using Pickle-Unpickle"
   ]
  },
  {
   "cell_type": "markdown",
   "metadata": {},
   "source": [
    "## 1. ExceptionHandling\n",
    "\n",
    "```python\n",
    "try:\n",
    "except ZeroDivisionError:\n",
    "else:\n",
    "finally:\n",
    "```"
   ]
  },
  {
   "cell_type": "code",
   "execution_count": 8,
   "metadata": {},
   "outputs": [
    {
     "name": "stdout",
     "output_type": "stream",
     "text": [
      "Enter two numbers2 4\n",
      "0.5\n"
     ]
    }
   ],
   "source": [
    "# Example\n",
    "try:\n",
    "    a,b=[int(x) for x in input(\"Enter two numbers\").split()]\n",
    "    c=a/b\n",
    "    print(c)\n",
    "except ZeroDivisionError:\n",
    "        print(\"Incorrect input. Divide by zero\")"
   ]
  },
  {
   "cell_type": "markdown",
   "metadata": {},
   "source": [
    "#### Finally block"
   ]
  },
  {
   "cell_type": "code",
   "execution_count": 15,
   "metadata": {},
   "outputs": [
    {
     "name": "stdout",
     "output_type": "stream",
     "text": [
      "Enter two numbers: 5 0\n",
      "Incorrect input. Divide by zero\n",
      "File closed\n"
     ]
    }
   ],
   "source": [
    "# Example\n",
    "try:\n",
    "    f=open(\"myfile\",\"w\")\n",
    "    a,b=[int(x) for x in input(\"Enter two numbers: \").split()]\n",
    "    c=a/b\n",
    "    print(c)\n",
    "    str=\"Writing to file: {}\".format(c)\n",
    "    f.write(str)\n",
    "except ZeroDivisionError:\n",
    "    print(\"Incorrect input. Divide by zero\")\n",
    "finally:\n",
    "    f.close()\n",
    "    print(\"File closed\")"
   ]
  },
  {
   "cell_type": "markdown",
   "metadata": {},
   "source": [
    "#### except-else"
   ]
  },
  {
   "cell_type": "code",
   "execution_count": 16,
   "metadata": {},
   "outputs": [
    {
     "name": "stdout",
     "output_type": "stream",
     "text": [
      "Enter two numbers: 5 10\n",
      "0.5\n",
      "You have entered a non-zero number\n",
      "File closed\n"
     ]
    }
   ],
   "source": [
    "# Example\n",
    "try:\n",
    "    f=open(\"myfile\",\"w\")\n",
    "    a,b=[int(x) for x in input(\"Enter two numbers: \").split()]\n",
    "    c=a/b\n",
    "    print(c)\n",
    "    str=\"Writing to file: {}\".format(c)\n",
    "    f.write(str)\n",
    "except ZeroDivisionError:\n",
    "    print(\"Incorrect input. Divide by zero\")\n",
    "else:\n",
    "    print(\"You have entered a non-zero number\")\n",
    "finally:\n",
    "    f.close()\n",
    "    print(\"File closed\")"
   ]
  },
  {
   "cell_type": "markdown",
   "metadata": {},
   "source": [
    "### 1.1 Logging"
   ]
  },
  {
   "cell_type": "code",
   "execution_count": 22,
   "metadata": {},
   "outputs": [
    {
     "name": "stderr",
     "output_type": "stream",
     "text": [
      "CRITICAL:root:Critical situation\n",
      "ERROR:root:Error occurred\n",
      "WARNING:root:Warning raised!!\n"
     ]
    }
   ],
   "source": [
    "# Default log level is Warning, so you would not see debug and info logged\n",
    "import logging\n",
    "\n",
    "logging.critical(\"Critical situation\")\n",
    "logging.error(\"Error occurred\")\n",
    "logging.warning(\"Warning raised!!\")\n",
    "logging.info(\"Info level\")\n",
    "logging.debug(\"Debug level\")"
   ]
  },
  {
   "cell_type": "markdown",
   "metadata": {},
   "source": [
    "#### Configure logging"
   ]
  },
  {
   "cell_type": "code",
   "execution_count": 27,
   "metadata": {},
   "outputs": [
    {
     "name": "stderr",
     "output_type": "stream",
     "text": [
      "CRITICAL:root:Critical situation\n",
      "ERROR:root:Error occurred\n",
      "WARNING:root:Warning raised!!\n"
     ]
    }
   ],
   "source": [
    "# The logs are logged in log file. You wont see the correct output here in console\n",
    "import logging\n",
    "\n",
    "logging.basicConfig(filename=\"mylog.log\", level=logging.ERROR)\n",
    "logging.critical(\"Critical situation\")\n",
    "logging.error(\"Error occurred\")\n",
    "logging.warning(\"Warning raised!!\")\n",
    "logging.info(\"Info level\")\n",
    "logging.debug(\"Debug level\")"
   ]
  },
  {
   "cell_type": "markdown",
   "metadata": {},
   "source": [
    "### 1.2 Assertion"
   ]
  },
  {
   "cell_type": "code",
   "execution_count": 30,
   "metadata": {},
   "outputs": [
    {
     "name": "stdout",
     "output_type": "stream",
     "text": [
      "Enter a number: 4\n",
      "After assertion\n"
     ]
    }
   ],
   "source": [
    "# Assertion w/o try\n",
    "num=int(input(\"Enter a number: \"))\n",
    "assert num%2==0, \"You have entered an invalid or odd number\"\n",
    "print(\"After assertion\")"
   ]
  },
  {
   "cell_type": "code",
   "execution_count": 32,
   "metadata": {},
   "outputs": [
    {
     "name": "stdout",
     "output_type": "stream",
     "text": [
      "Enter a number: 5\n",
      "You have entered an invalid or odd number\n",
      "After assertion\n"
     ]
    }
   ],
   "source": [
    "# Assertion with try:\n",
    "# obj object gets the message from assert\n",
    "try:\n",
    "    num=int(input(\"Enter a number: \"))\n",
    "    assert num%2==0, \"You have entered an invalid or odd number\"\n",
    "except AssertionError as obj:\n",
    "    print(obj)\n",
    "print(\"After assertion\")"
   ]
  },
  {
   "cell_type": "markdown",
   "metadata": {},
   "source": [
    "#### Write a code to handle InvalidPassword\n",
    "> 1. Using assert\n",
    "> 2. Using custom exception class"
   ]
  },
  {
   "cell_type": "code",
   "execution_count": 48,
   "metadata": {},
   "outputs": [
    {
     "name": "stdout",
     "output_type": "stream",
     "text": [
      "Enter a password: sdfs\n",
      "Weak password\n"
     ]
    }
   ],
   "source": [
    "# 1. Using assert\n",
    "try:\n",
    "    x=input(\"Enter a password: \")\n",
    "    assert len(x) >= 8, \"Weak password\"\n",
    "except AssertionError as obj:\n",
    "    print(obj)\n",
    "else:\n",
    "    print(\"Valid password\")"
   ]
  },
  {
   "cell_type": "code",
   "execution_count": 47,
   "metadata": {},
   "outputs": [
    {
     "name": "stdout",
     "output_type": "stream",
     "text": [
      "Enter a password: dsa\n",
      "InvalidPasswordException: well, well, well, if it isn't the consequences of my own actions\n"
     ]
    }
   ],
   "source": [
    "# 2. Using custom exception class\n",
    "def acceptPassword():\n",
    "    x=input(\"Enter a password: \")\n",
    "    if len(x) <= 8:\n",
    "        raise InvalidPasswordException\n",
    "\n",
    "class InvalidPasswordException(Exception):\n",
    "    def __init__(self):\n",
    "        Exception.__init__(self,\"InvalidPasswordException: well, well, well, if it isn't the consequences of my own actions\") \n",
    "\n",
    "try:\n",
    "    acceptPassword()\n",
    "except InvalidPasswordException as obj:\n",
    "    print(obj)\n",
    "else:\n",
    "    print(\"Valid password\")"
   ]
  },
  {
   "cell_type": "markdown",
   "metadata": {},
   "source": [
    "## 2. Files\n",
    "```python\n",
    "f=open(\"filename\",\"mode\",\"buffer\")\n",
    "f.close()\n",
    "```\n",
    "\n",
    "```\n",
    "where mode: \n",
    "    w, r, a, w+, r+, a+, x\n",
    "    (for binary): wb, rb, ab, w+b, r+b, a+b, xb\n",
    "```"
   ]
  },
  {
   "cell_type": "code",
   "execution_count": null,
   "metadata": {},
   "outputs": [],
   "source": [
    "f=open(\"myfile.txt\", \"w\")\n",
    "print(\"Enter text (type :wq to save and quit)\")\n",
    "s=''\n",
    "while(s != ':wq'):\n",
    "    s=input(\"Enter text: \")\n",
    "    f.write(s)\n",
    "f.close()"
   ]
  },
  {
   "cell_type": "markdown",
   "metadata": {},
   "source": [
    "#### Check if file exists"
   ]
  },
  {
   "cell_type": "code",
   "execution_count": null,
   "metadata": {},
   "outputs": [],
   "source": [
    "import os,sys\n",
    "\n",
    "if os.path.isFile(\"myfile.txt\"):\n",
    "    f=open(\"myfile.txt\", \"r\")\n",
    "    s=f.read()\n",
    "    print(s)\n",
    "    f.close()\n",
    "else:\n",
    "    print(\"File does not exists\")\n",
    "    sys.exit()"
   ]
  },
  {
   "cell_type": "markdown",
   "metadata": {},
   "source": [
    "## 3. Pickle & Unpickle\n",
    "> Serialization and deserialization"
   ]
  },
  {
   "cell_type": "code",
   "execution_count": null,
   "metadata": {},
   "outputs": [],
   "source": [
    "# student.py\n",
    "class Student:\n",
    "    def __init__(self, id, name, score):\n",
    "        self.id=id\n",
    "        self.name=name\n",
    "        self.score=score\n",
    "    \n",
    "    def display(self):\n",
    "        print(\"ID: {}, name: {}, score: {}\".format(id, name, score))\n",
    "\n",
    "# pickle.py\n",
    "import pickle, student\n",
    "\n",
    "f=open(\"student.dat\", \"wb\")\n",
    "s=student.Student(123, \"Bongo\", 100)\n",
    "pickle.dump(s, f)\n",
    "f.close()\n",
    "\n",
    "# unpickle.py\n",
    "import pickle\n",
    "\n",
    "f=open(\"student.dat\", \"rb\")\n",
    "obj=pickle.load(f)\n",
    "obj.display()"
   ]
  },
  {
   "cell_type": "code",
   "execution_count": null,
   "metadata": {},
   "outputs": [],
   "source": []
  }
 ],
 "metadata": {
  "kernelspec": {
   "display_name": "Python 3",
   "language": "python",
   "name": "python3"
  },
  "language_info": {
   "codemirror_mode": {
    "name": "ipython",
    "version": 3
   },
   "file_extension": ".py",
   "mimetype": "text/x-python",
   "name": "python",
   "nbconvert_exporter": "python",
   "pygments_lexer": "ipython3",
   "version": "3.7.3"
  }
 },
 "nbformat": 4,
 "nbformat_minor": 2
}
