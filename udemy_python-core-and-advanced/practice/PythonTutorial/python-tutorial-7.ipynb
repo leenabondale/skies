{
 "cells": [
  {
   "cell_type": "markdown",
   "metadata": {},
   "source": [
    "# Python Tutorial - Part 7\n",
    "This tutorial is based on [Udemy Python Course](https://www.udemy.com/course/python-core-and-advanced)\n",
    "\n",
    "*Section 23: Networking*"
   ]
  },
  {
   "cell_type": "code",
   "execution_count": 1,
   "metadata": {
    "pycharm": {
     "is_executing": false
    }
   },
   "outputs": [],
   "source": [
    "# downloading html\n",
    "import urllib.request\n",
    "\n",
    "url=urllib.request.urlopen(\"https://www.python.org/\")\n",
    "try:\n",
    "    content=url.read()\n",
    "except urllib.request.HTTPError:\n",
    "    print(\"The webpage is not found\")\n",
    "    exit()\n",
    "    \n",
    "f=open(\"python.html\",\"wb\")\n",
    "f.write(content)\n",
    "f.close()"
   ]
  },
  {
   "cell_type": "code",
   "execution_count": 2,
   "metadata": {},
   "outputs": [
    {
     "data": {
      "text/plain": [
       "('python.png', <http.client.HTTPMessage at 0x10db45358>)"
      ]
     },
     "execution_count": 2,
     "metadata": {},
     "output_type": "execute_result"
    }
   ],
   "source": [
    "# download image\n",
    "import urllib.request\n",
    "\n",
    "url=\"https://www.python.org/static/img/python-logo@2x.png\"\n",
    "urllib.request.urlretrieve(url, \"python.png\")\n"
   ]
  },
  {
   "cell_type": "markdown",
   "metadata": {},
   "source": [
    "### Socket programming\n",
    "\n",
    "<img src=\"supporting_files/python-networking.png\" width=450 height=480>"
   ]
  },
  {
   "cell_type": "code",
   "execution_count": null,
   "metadata": {},
   "outputs": [
    {
     "name": "stdout",
     "output_type": "stream",
     "text": [
      "Server listening on port 4000\n"
     ]
    }
   ],
   "source": [
    "# Create Server\n",
    "import socket\n",
    "\n",
    "host='localhost'\n",
    "port=4000\n",
    "\n",
    "# Default setting: socket.AF_INET=>ipv4, socket.SOCK_STREAM=>TCP\n",
    "s=socket.socket(socket.AF_INET, socket.SOCK_STREAM)\n",
    "s.bind((host,port))\n",
    "print(\"Server listening on port\", port)\n",
    "# number of connections server will accept in param, here 1\n",
    "s.listen(1)\n",
    "\n",
    "# returns two things: connection and client address\n",
    "c,addr=s.accept()\n",
    "\n",
    "print(\"Connection from:\", str(addr))\n",
    "\n",
    "# need to send data in binary. \n",
    "# Two ways of doing so, either:\n",
    "#    a. prepend b to the string\n",
    "c.send(b\"Hello how are you?\")\n",
    "# OR\n",
    "#    b. use encode method\n",
    "c.send(\"bye\".encode())\n",
    "c.close()"
   ]
  },
  {
   "cell_type": "code",
   "execution_count": null,
   "metadata": {},
   "outputs": [],
   "source": [
    "# Create Client\n",
    "import socket\n",
    "\n",
    "host='localhost'\n",
    "port=4000\n",
    "\n",
    "# Default setting: socket.AF_INET=>ipv4, socket.SOCK_STREAM=>TCP\n",
    "s=socket.socket(socket.AF_INET, socket.SOCK_STREAM)\n",
    "\n",
    "s.connect((host, port))\n",
    "msg=s.recv(1024)\n",
    "\n",
    "while msg:\n",
    "    print(\"Rec\", msg.decode())\n",
    "    msg=s.recv(1024)\n",
    "c.close()"
   ]
  },
  {
   "cell_type": "markdown",
   "metadata": {},
   "source": [
    "### File Transfer"
   ]
  },
  {
   "cell_type": "code",
   "execution_count": null,
   "metadata": {
    "pycharm": {
     "is_executing": true
    }
   },
   "outputs": [
    {
     "name": "stdout",
     "output_type": "stream",
     "text": [
      "Server listening on port 6768\n"
     ]
    }
   ],
   "source": [
    "# Create Server\n",
    "import socket\n",
    "\n",
    "host='localhost'\n",
    "port=6768\n",
    "\n",
    "# Default setting: socket.AF_INET=>ipv4, socket.SOCK_STREAM=>TCP\n",
    "s=socket.socket(socket.AF_INET, socket.SOCK_STREAM)\n",
    "s.bind((host,port))\n",
    "print(\"Server listening on port\", port)\n",
    "\n",
    "s.listen(1)\n",
    "\n",
    "c,addr=s.accept()\n",
    "\n",
    "fileName=c.recv(1024)\n",
    "\n",
    "try:\n",
    "    f=open(fileName,'rb')\n",
    "    content=f.open()\n",
    "    c.send()\n",
    "    f.close()\n",
    "except FileNotFoundError:\n",
    "    c.send(b\"File does not exist\")\n",
    "\n",
    "c.close()"
   ]
  },
  {
   "cell_type": "code",
   "execution_count": null,
   "metadata": {
    "pycharm": {
     "is_executing": true
    }
   },
   "outputs": [],
   "source": [
    "# Create Client\n",
    "import socket\n",
    "\n",
    "host='localhost'\n",
    "port=6768\n",
    "\n",
    "# Default setting: socket.AF_INET=>ipv4, socket.SOCK_STREAM=>TCP\n",
    "s=socket.socket(socket.AF_INET, socket.SOCK_STREAM)\n",
    "\n",
    "s.connect((host, port))\n",
    "\n",
    "fileName=input(\"Enter a filename\")\n",
    "s.send(fileName.encode())\n",
    "\n",
    "content=s.recv(1024)\n",
    "\n",
    "print(content.decode())\n",
    "\n",
    "c.close()"
   ]
  },
  {
   "cell_type": "code",
   "execution_count": null,
   "metadata": {},
   "outputs": [],
   "source": []
  }
 ],
 "metadata": {
  "kernelspec": {
   "display_name": "Python 3",
   "language": "python",
   "name": "python3"
  },
  "language_info": {
   "codemirror_mode": {
    "name": "ipython",
    "version": 3
   },
   "file_extension": ".py",
   "mimetype": "text/x-python",
   "name": "python",
   "nbconvert_exporter": "python",
   "pygments_lexer": "ipython3",
   "version": "3.7.3"
  },
  "pycharm": {
   "stem_cell": {
    "cell_type": "raw",
    "metadata": {
     "collapsed": false
    },
    "source": []
   }
  }
 },
 "nbformat": 4,
 "nbformat_minor": 2
}
