{
 "cells": [
  {
   "cell_type": "markdown",
   "metadata": {},
   "source": [
    "# Python Tutorial - Part 1\n",
    "This tutorial is based on [Udemy Python Course](https://www.udemy.com/course/python-core-and-advanced)\n",
    "\n",
    "*Section 1 - Section 12: Covers basics of Python*"
   ]
  },
  {
   "cell_type": "markdown",
   "metadata": {},
   "source": [
    "### 1. String manipulation"
   ]
  },
  {
   "cell_type": "code",
   "execution_count": 1,
   "metadata": {},
   "outputs": [
    {
     "name": "stdout",
     "output_type": "stream",
     "text": [
      "u are \n",
      "u are awesom\n",
      "so\n",
      "emosewa era uoY\n",
      "osewa era uoY\n",
      "You are awesomeYou are awesomeYou are awesome\n",
      "8\n",
      "8\n",
      "-1\n",
      "2\n",
      "You were awesome\n",
      "YOU ARE AWESOME\n",
      "you are awesome\n",
      "You Are Awesome\n"
     ]
    }
   ],
   "source": [
    "s1 = \"You are awesome\"\n",
    "# string split w/ Start, End and Step\n",
    "print(s1[2:8])\n",
    "print(s1[2:-1])\n",
    "print(s1[-4:-2])\n",
    "print(s1[::-1])\n",
    "print(s1[-3::-1])\n",
    "print(s1*3)\n",
    "\n",
    "# string find\n",
    "print(s1.find(\"awe\"))\n",
    "print(s1.find(\"awe\", 0, 15))\n",
    "print(s1.find(\"awe\", 0, 7))\n",
    "\n",
    "# string count\n",
    "print(s1.count(\"a\"))\n",
    "\n",
    "# string updates\n",
    "print(s1.replace(\"are\", \"were\"))\n",
    "print(s1.upper())\n",
    "print(s1.lower())\n",
    "print(s1.title())"
   ]
  },
  {
   "cell_type": "markdown",
   "metadata": {},
   "source": [
    "### 2. List"
   ]
  },
  {
   "cell_type": "code",
   "execution_count": 2,
   "metadata": {},
   "outputs": [
    {
     "name": "stdout",
     "output_type": "stream",
     "text": [
      "\n",
      "===== list basics: 1 =====\n",
      "\n",
      "<class 'list'>\n",
      "[20, 'waasaap', -32]\n",
      "['waasaap', -32, 13.45, 'hello']\n",
      "\n",
      "===== list basics: 2 =====\n",
      "\n",
      "[10, 20, 'waasaap', -32, 13.45, 'hello', 10, 20, 'waasaap', -32, 13.45, 'hello']\n",
      "\n",
      "===== list append, remove and insert =====\n",
      "\n",
      "[10, 20, 'waasaap', -32, 13.45, 'hello', 32.23]\n",
      "[10, 20, 'waasaap', -32, 13.45, 32.23]\n",
      "[10, 20, 'waasaap', 111, -32, 13.45, 32.23]\n",
      "\n",
      "===== inbuilt functions for list =====\n",
      "\n",
      "[10, 20, 111, -32, 13.45, 32.23]\n",
      "-32\n",
      "111\n",
      "\n",
      "===== list sort, order and clear =====\n",
      "\n",
      "[-32, 10, 13.45, 20, 32.23, 111]\n",
      "[111, 32.23, 20, 13.45, 10, -32]\n",
      "[]\n"
     ]
    }
   ],
   "source": [
    "print(\"\\n===== list basics: 1 =====\\n\")\n",
    "\n",
    "lst = []\n",
    "print(type(lst))\n",
    "lst = [10, 20, \"waasaap\", -32, 13.45, \"hello\"]\n",
    "print(lst[1:4])\n",
    "print(lst[2:30])\n",
    "\n",
    "print(\"\\n===== list basics: 2 =====\\n\")\n",
    "lst1 = lst*2\n",
    "print(lst1)\n",
    "\n",
    "print(\"\\n===== list append, remove and insert =====\\n\")\n",
    "lst.append(32.23)\n",
    "print(lst)\n",
    "lst.remove(\"hello\")\n",
    "print(lst)\n",
    "lst.insert(3, 111)\n",
    "print(lst)\n",
    "\n",
    "print(\"\\n===== inbuilt functions for list =====\\n\")\n",
    "del(lst[2])\n",
    "print(lst)\n",
    "print(min(lst))\n",
    "print(max(lst))\n",
    "\n",
    "print(\"\\n===== list sort, order and clear =====\\n\")\n",
    "lst.sort()\n",
    "print(lst)\n",
    "lst.sort(reverse=True)\n",
    "print(lst)\n",
    "lst1.clear()\n",
    "print(lst1)"
   ]
  },
  {
   "cell_type": "markdown",
   "metadata": {},
   "source": [
    "### 3. Tuple - _the one that cannot be modified_\n",
    "- no slicing\n",
    "- no append\n",
    "- no remove\n",
    "- no insert\n",
    "- YES repetition; print(tpl*3)"
   ]
  },
  {
   "cell_type": "code",
   "execution_count": 3,
   "metadata": {},
   "outputs": [
    {
     "name": "stdout",
     "output_type": "stream",
     "text": [
      "\n",
      "===== tuple basics =====\n",
      "\n",
      "(40, 50, 40, 'XYZ')\n",
      "40\n",
      "2\n",
      "1\n",
      "\n",
      "===== weird tuple case =====\n",
      "\n",
      "<class 'int'>\n",
      "<class 'tuple'>\n",
      "\n",
      "===== tuple to list =====\n",
      "\n",
      "<class 'list'>\n",
      "<class 'tuple'>\n",
      "(40, 50, 30, 'hello')\n"
     ]
    }
   ],
   "source": [
    "print(\"\\n===== tuple basics =====\\n\")\n",
    "tpl=(40, 50, 40, \"XYZ\")\n",
    "print(tpl)\n",
    "print(tpl[2])\n",
    "print(tpl.count(40))\n",
    "print(tpl.index(50))\n",
    "\n",
    "print(\"\\n===== weird tuple case =====\\n\")\n",
    "# interesting catch w/ tuple - if one element, you have to suffix w/ comma; else does not consider as tuple \n",
    "tpl1=(40)\n",
    "print(type(tpl1))\n",
    "tpl1=(40,)\n",
    "print(type(tpl1))\n",
    "\n",
    "print(\"\\n===== tuple to list =====\\n\")\n",
    "lst=[40, 50, 30, \"hello\"]\n",
    "print(type(lst))\n",
    "lst=tuple(lst)\n",
    "print(type(lst))\n",
    "print(lst)"
   ]
  },
  {
   "cell_type": "markdown",
   "metadata": {},
   "source": [
    "### 4. Set - _the one that does not allow duplicates and does not order_\n",
    "- no indexing; eg: print(s[1])\n",
    "- no slicing; eg: print(s[2:4])\n",
    "- no repetition; eg: print(s*3)"
   ]
  },
  {
   "cell_type": "code",
   "execution_count": 4,
   "metadata": {},
   "outputs": [
    {
     "name": "stdout",
     "output_type": "stream",
     "text": [
      "{'XYZ', 10, 20, 30}\n",
      "<class 'set'>\n",
      "\n",
      "===== add duplicate elements to set =====\n",
      "\n",
      "{'XYZ', 10, 20, 30}\n",
      "\n",
      "===== add, remove elements =====\n",
      "\n",
      "{40, 10, 'XYZ', 50, 20, 30}\n",
      "{40, 10, 'XYZ', 50, 20}\n",
      "\n",
      "===== FROZEN SET =====\n",
      "\n"
     ]
    },
    {
     "ename": "AttributeError",
     "evalue": "'frozenset' object has no attribute 'update'",
     "output_type": "error",
     "traceback": [
      "\u001b[0;31m---------------------------------------------------------------------------\u001b[0m",
      "\u001b[0;31mAttributeError\u001b[0m                            Traceback (most recent call last)",
      "\u001b[0;32m<ipython-input-4-b256e3fc5e29>\u001b[0m in \u001b[0;36m<module>\u001b[0;34m\u001b[0m\n\u001b[1;32m     16\u001b[0m \u001b[0mprint\u001b[0m\u001b[0;34m(\u001b[0m\u001b[0;34m\"\\n===== FROZEN SET =====\\n\"\u001b[0m\u001b[0;34m)\u001b[0m\u001b[0;34m\u001b[0m\u001b[0;34m\u001b[0m\u001b[0m\n\u001b[1;32m     17\u001b[0m \u001b[0mfs\u001b[0m\u001b[0;34m=\u001b[0m\u001b[0mfrozenset\u001b[0m\u001b[0;34m(\u001b[0m\u001b[0ms\u001b[0m\u001b[0;34m)\u001b[0m\u001b[0;34m\u001b[0m\u001b[0;34m\u001b[0m\u001b[0m\n\u001b[0;32m---> 18\u001b[0;31m \u001b[0mfs\u001b[0m\u001b[0;34m.\u001b[0m\u001b[0mupdate\u001b[0m\u001b[0;34m(\u001b[0m\u001b[0;34m[\u001b[0m\u001b[0;36m11\u001b[0m\u001b[0;34m]\u001b[0m\u001b[0;34m)\u001b[0m\u001b[0;34m\u001b[0m\u001b[0;34m\u001b[0m\u001b[0m\n\u001b[0m\u001b[1;32m     19\u001b[0m \u001b[0mfs\u001b[0m\u001b[0;34m.\u001b[0m\u001b[0mremove\u001b[0m\u001b[0;34m(\u001b[0m\u001b[0;36m40\u001b[0m\u001b[0;34m)\u001b[0m\u001b[0;34m\u001b[0m\u001b[0;34m\u001b[0m\u001b[0m\n",
      "\u001b[0;31mAttributeError\u001b[0m: 'frozenset' object has no attribute 'update'"
     ]
    }
   ],
   "source": [
    "s={10, 20, 30, \"XYZ\"}\n",
    "print(s)\n",
    "print(type(s))\n",
    "\n",
    "print(\"\\n===== add duplicate elements to set =====\\n\")\n",
    "s={10, 20, 30, \"XYZ\", 20, 10, \"XYZ\"}\n",
    "print(s)\n",
    "\n",
    "print(\"\\n===== add, remove elements =====\\n\")\n",
    "s.update([40, 50])\n",
    "print(s)\n",
    "\n",
    "s.remove(30)\n",
    "print(s)\n",
    "\n",
    "print(\"\\n===== FROZEN SET =====\\n\")\n",
    "fs=frozenset(s)\n",
    "fs.update([11])\n",
    "fs.remove(40)"
   ]
  },
  {
   "cell_type": "markdown",
   "metadata": {},
   "source": [
    "### 5. Dictionary"
   ]
  },
  {
   "cell_type": "code",
   "execution_count": null,
   "metadata": {},
   "outputs": [],
   "source": [
    "dict1={\"emp1\":\"bamba\", \"emp2\":\"banana\", \"emp3\": \"curly\"}\n",
    "print(dict1)\n",
    "print(dict1.items())\n",
    "print(dict1.keys())\n",
    "\n",
    "print(\"\\n===== Dict: print keys =====\\n\")\n",
    "k=dict1.keys()\n",
    "for i in k: print(i)\n",
    "\n",
    "print(\"\\n===== Dict: print values =====\\n\")\n",
    "v=dict1.values()\n",
    "for i in v: print(i)\n",
    "\n",
    "print(\"\\n===== Dict: print value by key =====\\n\")\n",
    "print(dict1[\"emp2\"])\n",
    "\n",
    "print(\"\\n===== Dict: delete by key =====\\n\")\n",
    "del dict1[\"emp3\"]\n",
    "print(dict1)"
   ]
  },
  {
   "cell_type": "markdown",
   "metadata": {},
   "source": [
    "### Print"
   ]
  },
  {
   "cell_type": "code",
   "execution_count": null,
   "metadata": {},
   "outputs": [],
   "source": [
    "a, b=30, 12\n",
    "print(a, b, sep=\":::\")\n",
    "name=\"Mark\"\n",
    "percent=96.4\n",
    "print(\"Name is \", name, \", percent is \", percent)\n",
    "print(\"Name is %s, percent is %.3f\"%(name, percent))\n",
    "print(\"Name is {}, percent is {}\".format(name, percent))\n",
    "print(\"Name is {0}, percent is {1}\".format(name, percent))"
   ]
  },
  {
   "cell_type": "markdown",
   "metadata": {},
   "source": [
    "### Input\n",
    "\n",
    "#### Understanding multiple inputs by breakdown\n",
    "\n",
    "`lst=[int(x) for x in input(\"Enter three numbers by space\").split()]`\n",
    "\n",
    "> Final command\n",
    "\n",
    "##### Let's understand part by part\n",
    "\n",
    "`input(\"Enter three numbers by space\")`\n",
    "\n",
    "> Basic input command\n",
    "\n",
    "`input(\"Enter three numbers by space\").split()`\n",
    "\n",
    "> Using split to consume more, default separator is space\n",
    "\n",
    "`for x in input(\"Enter three numbers by space\").split()`\n",
    "\n",
    ">  for loop to iterate through the inputs\n",
    "\n",
    "`x for x in input(\"Enter three numbers by space\").split()`\n",
    "\n",
    ">  assign it to x\n",
    "\n",
    "`[x for x in input(\"Enter three numbers by space\").split()]`\n",
    "\n",
    "> make it a list\n",
    "\n",
    "`lst=[x for x in input(\"Enter three numbers by space\").split()]`\n",
    "\n",
    "> assign to lst\n",
    "\n",
    "`lst=[int(x) for x in input(\"Enter three numbers by space\").split()]`\n",
    "\n",
    "> convert to int\n"
   ]
  },
  {
   "cell_type": "code",
   "execution_count": null,
   "metadata": {},
   "outputs": [],
   "source": [
    "s=input(\"Enter your name: \")\n",
    "print(\"Your name is \", s)\n",
    "i=int(input(\"Enter a number: \"))\n",
    "print(\"The number is \", i)\n",
    "\n",
    "print(\"\\n===== Reading multiple inputs =====\\n\")\n",
    "lst=[int(x) for x in input(\"Enter three numbers by space\").split()]\n"
   ]
  },
  {
   "cell_type": "markdown",
   "metadata": {},
   "source": [
    "### Exercise: Find if number is prime or not"
   ]
  },
  {
   "cell_type": "code",
   "execution_count": null,
   "metadata": {},
   "outputs": [],
   "source": [
    "primeFlag=True\n",
    "n = int(input(\"Enter a number: \"))\n",
    "for i in range(2, n-1):\n",
    "    if n%i==0:\n",
    "        primeFlag=False\n",
    "        \n",
    "if primeFlag==True:\n",
    "    print(\"{} is a prime number\".format(n))\n",
    "else:\n",
    "    print(\"{} is _not_ a prime number\".format(n))"
   ]
  },
  {
   "cell_type": "markdown",
   "metadata": {},
   "source": [
    "### Exercise: Average of three numbers"
   ]
  },
  {
   "cell_type": "code",
   "execution_count": null,
   "metadata": {},
   "outputs": [],
   "source": [
    "avg,total=0,0\n",
    "lst=[int(x) for x in input(\"Enter three numbers separated by comma\").split(\",\")]\n",
    "for i in range(0, len(lst)):\n",
    "    total += lst[i]\n",
    "\n",
    "avg = total / len(lst)\n",
    "print(\"Average is \", avg)"
   ]
  },
  {
   "cell_type": "markdown",
   "metadata": {},
   "source": [
    "### Exercise: Area of a circle"
   ]
  },
  {
   "cell_type": "code",
   "execution_count": null,
   "metadata": {},
   "outputs": [],
   "source": [
    "import math\n",
    "\n",
    "radius=int(input(\"Enter radius of circle: \"))\n",
    "area=math.pi*radius*radius\n",
    "print(area)"
   ]
  },
  {
   "cell_type": "markdown",
   "metadata": {},
   "source": [
    "### Function as a parameter"
   ]
  },
  {
   "cell_type": "code",
   "execution_count": null,
   "metadata": {},
   "outputs": [],
   "source": [
    "def display(fun):\n",
    "    return \"Hello \"+fun\n",
    "\n",
    "def name():\n",
    "    return \"Bamba\"\n",
    "\n",
    "display(name())"
   ]
  },
  {
   "cell_type": "markdown",
   "metadata": {},
   "source": [
    "### Control statements\n",
    "- Conditional\n",
    "    - if\n",
    "    - if..else\n",
    "    - if..elif..else\n",
    "- Looping\n",
    "    - for\n",
    "    - while\n",
    "- Transfer\n",
    "    - break\n",
    "    - continue\n",
    "    - pass\n",
    "    - return"
   ]
  },
  {
   "cell_type": "markdown",
   "metadata": {},
   "source": [
    "### Exercise: Multiplication table for a given number"
   ]
  },
  {
   "cell_type": "code",
   "execution_count": null,
   "metadata": {},
   "outputs": [],
   "source": [
    "n=int(input(\"Enter a number:\"))\n",
    "for i in range(1, 11):\n",
    "    print(\"{} x {} = {}\".format(n, i, n*i))"
   ]
  },
  {
   "cell_type": "markdown",
   "metadata": {},
   "source": [
    "### Command-line arguments"
   ]
  },
  {
   "cell_type": "code",
   "execution_count": null,
   "metadata": {},
   "outputs": [],
   "source": [
    "import sys\n",
    "\n",
    "# receives inputs in a list\n",
    "lst=sys.argv\n",
    "for i in lst: print(i)\n",
    "\n",
    "# === OUTPUT: first one is always the python file location ===\n",
    "# $> commandline.py 122, 344, 455\n",
    "# $> /Users/dfernandes/project/commandline.py\n",
    "# $> 122\n",
    "# $> 344\n",
    "# $> 455\n"
   ]
  },
  {
   "cell_type": "markdown",
   "metadata": {},
   "source": [
    "### Functions: Basic"
   ]
  },
  {
   "cell_type": "code",
   "execution_count": 22,
   "metadata": {
    "pycharm": {
     "is_executing": false
    }
   },
   "outputs": [
    {
     "name": "stdout",
     "output_type": "stream",
     "text": [
      "\n",
      "===== Function: Basic =====\n",
      "\n",
      "15.0\n",
      "\n",
      "===== Function: return multiple values =====\n",
      "\n",
      "(14, 6, 40, 2.5)\n",
      "<class 'tuple'>\n",
      "\n",
      "===== Function: local and global variables =====\n",
      "\n",
      "23\n",
      "17\n",
      "23\n",
      "\n",
      "===== Function: access global variables w/ same name from function =====\n",
      "\n",
      "23\n",
      "12\n",
      "23\n",
      "23\n",
      "\n",
      "===== Function: keyword arguments =====\n",
      "\n",
      "a: 3, b: 5\n",
      "\n",
      "===== Function: default arguments =====\n",
      "\n",
      "a: 10, b: 5\n",
      "\n",
      "===== Function: assign function to a variable =====\n",
      "\n",
      "23\n",
      "17\n",
      "\n",
      "===== Function inside function =====\n",
      "\n"
     ]
    },
    {
     "data": {
      "text/plain": [
       "'Hello Dolphy'"
      ]
     },
     "execution_count": 22,
     "metadata": {},
     "output_type": "execute_result"
    }
   ],
   "source": [
    "print(\"\\n===== Function: Basic =====\\n\")\n",
    "\n",
    "def average(a, b):\n",
    "    return (a+b)/2\n",
    "\n",
    "print(average(10, 20))\n",
    "\n",
    "print(\"\\n===== Function: return multiple values =====\\n\")\n",
    "\n",
    "def calculator(a, b):\n",
    "    u=a+b\n",
    "    v=a-b\n",
    "    x=a*b\n",
    "    y=a/b\n",
    "    return u, v, x, y\n",
    "\n",
    "result=calculator(10, 4)\n",
    "print(result)\n",
    "print(type(result))\n",
    "\n",
    "print(\"\\n===== Function: local and global variables =====\\n\")\n",
    "# global var\n",
    "x=23\n",
    "\n",
    "def display():\n",
    "    x=12\n",
    "    x=x+5\n",
    "    print(x)\n",
    "    \n",
    "print(x)\n",
    "display()\n",
    "print(x)\n",
    "\n",
    "print(\"\\n===== Function: access global variables w/ same name from function =====\\n\")\n",
    "# global var\n",
    "x=23\n",
    "\n",
    "def display():\n",
    "    x=12\n",
    "    print(x)\n",
    "    print(globals()['x'])\n",
    "    \n",
    "print(x)\n",
    "display()\n",
    "print(x)\n",
    "\n",
    "print(\"\\n===== Function: keyword arguments =====\\n\")\n",
    "def myfunc(a, b):\n",
    "    print(\"a: {}, b: {}\".format(a, b))\n",
    "\n",
    "myfunc(b=5, a=3)\n",
    "    \n",
    "print(\"\\n===== Function: default arguments =====\\n\")\n",
    "def myfunc1(a=10, b=5):\n",
    "    print(\"a: {}, b: {}\".format(a, b))\n",
    "    \n",
    "myfunc1(b=5)\n",
    "\n",
    "print(\"\\n===== Function: assign function to a variable =====\\n\")\n",
    "# global var\n",
    "x=23\n",
    "\n",
    "def display():\n",
    "    x=12\n",
    "    x=x+5\n",
    "    print(x)\n",
    "    \n",
    "print(x)\n",
    "#display()\n",
    "z=display\n",
    "z()\n",
    "\n",
    "print(\"\\n===== Function inside function =====\\n\")\n",
    "def display(name):\n",
    "    def message():\n",
    "        return \"Hello \"\n",
    "    return message()+name\n",
    "\n",
    "display(\"Dolphy\")\n",
    "\n"
   ]
  },
  {
   "cell_type": "markdown",
   "metadata": {
    "pycharm": {
     "is_executing": false
    }
   },
   "source": [
    "### Function as a parameter"
   ]
  },
  {
   "cell_type": "code",
   "execution_count": 13,
   "metadata": {},
   "outputs": [
    {
     "name": "stdout",
     "output_type": "stream",
     "text": [
      ">>>Hello David<<<\n"
     ]
    }
   ],
   "source": [
    "def display(func, arg):\n",
    "    start=\">>>\"\n",
    "    x=func(arg)\n",
    "    end=\"<<<\"\n",
    "    return start+x+end\n",
    "\n",
    "def name(arg):\n",
    "    return \"Hello \"+arg\n",
    "\n",
    "print(display(name, \"David\"))"
   ]
  },
  {
   "cell_type": "markdown",
   "metadata": {},
   "source": [
    "### Returning function as output"
   ]
  },
  {
   "cell_type": "code",
   "execution_count": 14,
   "metadata": {},
   "outputs": [
    {
     "name": "stdout",
     "output_type": "stream",
     "text": [
      "Hello world\n"
     ]
    }
   ],
   "source": [
    "def display():\n",
    "    def message():\n",
    "        return \"Hello world\"\n",
    "    return message\n",
    "\n",
    "x=display()\n",
    "print(x())"
   ]
  },
  {
   "cell_type": "markdown",
   "metadata": {},
   "source": [
    "### Function: Recursion"
   ]
  },
  {
   "cell_type": "code",
   "execution_count": 18,
   "metadata": {},
   "outputs": [
    {
     "data": {
      "text/plain": [
       "120"
      ]
     },
     "execution_count": 18,
     "metadata": {},
     "output_type": "execute_result"
    }
   ],
   "source": [
    "def factorial(n):\n",
    "    if n==1:\n",
    "        return 1\n",
    "    else:\n",
    "        return n*factorial(n-1)\n",
    "    \n",
    "factorial(5)"
   ]
  },
  {
   "cell_type": "markdown",
   "metadata": {},
   "source": [
    "### Lambdas"
   ]
  },
  {
   "cell_type": "code",
   "execution_count": 36,
   "metadata": {},
   "outputs": [
    {
     "name": "stdout",
     "output_type": "stream",
     "text": [
      "\n",
      "===== Lambdas: Calculate cube of a number =====\n",
      "\n",
      "8\n",
      "\n",
      "===== Lambdas: Is Even? =====\n",
      "\n",
      "NO\n",
      "\n",
      "===== Lambdas: Sum of two numbers =====\n",
      "\n",
      "10\n"
     ]
    }
   ],
   "source": [
    "print(\"\\n===== Lambdas: Calculate cube of a number =====\\n\")\n",
    "calculate_cube=lambda x: x**3\n",
    "print(calculate_cube(2))\n",
    "\n",
    "print(\"\\n===== Lambdas: Is Even? =====\\n\")\n",
    "is_even=lambda x:\"YES\" if x%2==0 else \"NO\"\n",
    "print(is_even(3))\n",
    "\n",
    "print(\"\\n===== Lambdas: Sum of two numbers =====\\n\")\n",
    "sum=lambda a,b:a+b\n",
    "print(sum(4, 6))"
   ]
  },
  {
   "cell_type": "markdown",
   "metadata": {},
   "source": [
    "### Lambdas: Filter, Map, Reduce"
   ]
  },
  {
   "cell_type": "code",
   "execution_count": 41,
   "metadata": {},
   "outputs": [
    {
     "name": "stdout",
     "output_type": "stream",
     "text": [
      "\n",
      "===== Filter: filter out even numbers =====\n",
      "\n",
      "[10, 4, 32, 46]\n",
      "\n",
      "===== Map: double values from list =====\n",
      "\n",
      "[4, 9, 16, 25]\n",
      "\n",
      "===== Reduce: sum of all elements in list =====\n",
      "\n",
      "14\n"
     ]
    }
   ],
   "source": [
    "print(\"\\n===== Filter: filter out even numbers =====\\n\")\n",
    "lst=[10,4, 1, 32, 23, 13, 46]\n",
    "\n",
    "# filter(lambda func, arg) => returns filter object, use list() to convert\n",
    "result = list(filter(lambda x:x%2==0, lst))\n",
    "\n",
    "print(result)\n",
    "\n",
    "print(\"\\n===== Map: double values from list =====\\n\")\n",
    "lst=[2, 3, 4, 5]\n",
    "result = list(map(lambda x:x*x, lst))\n",
    "\n",
    "print(result)\n",
    "\n",
    "print(\"\\n===== Reduce: sum of all elements in list =====\\n\")\n",
    "from functools import reduce\n",
    "lst=[2, 3, 4, 5]\n",
    "result=reduce(lambda x,y:x+y, lst)\n",
    "\n",
    "print(result)"
   ]
  },
  {
   "cell_type": "markdown",
   "metadata": {},
   "source": [
    "### Decorators\n",
    "- its a function that **returns a function** and add some decoration or **add some meaning to the function** being passed"
   ]
  },
  {
   "cell_type": "code",
   "execution_count": 64,
   "metadata": {},
   "outputs": [
    {
     "name": "stdout",
     "output_type": "stream",
     "text": [
      "\n",
      "===== Decorator: basics =====\n",
      "\n",
      "10\n",
      "\n",
      "===== Decorator: @Decor =====\n",
      "\n",
      "10\n",
      "\n",
      "===== Example: Decorator strings =====\n",
      "\n"
     ]
    },
    {
     "data": {
      "text/plain": [
       "'Hello Bambalaya! How are you'"
      ]
     },
     "execution_count": 64,
     "metadata": {},
     "output_type": "execute_result"
    }
   ],
   "source": [
    "print(\"\\n===== Decorator: basics =====\\n\")\n",
    "\n",
    "def decor(fun):\n",
    "    def inner():\n",
    "        return fun()*2\n",
    "    return inner\n",
    "\n",
    "def getNum():\n",
    "    return 5\n",
    "\n",
    "decorFun=decor(getNum)\n",
    "print(decorFun())\n",
    "\n",
    "print(\"\\n===== Decorator: @Decor =====\\n\")\n",
    "\n",
    "def decor1(fun):\n",
    "    def inner():\n",
    "        return fun()*2\n",
    "    return inner\n",
    "\n",
    "@decor1\n",
    "def getNum():\n",
    "    return 5\n",
    "\n",
    "print(getNum())\n",
    "\n",
    "print(\"\\n===== Example: Decorator strings =====\\n\")\n",
    "\n",
    "def conversation(fun):\n",
    "    def inner(arg):\n",
    "        result = fun(arg)+\"! How are you\"\n",
    "        return result\n",
    "    return inner\n",
    "\n",
    "@conversation\n",
    "def hello(name):\n",
    "    return \"Hello \"+name\n",
    "\n",
    "hello(\"Bambalaya\")\n"
   ]
  },
  {
   "cell_type": "markdown",
   "metadata": {},
   "source": [
    "### Generators\n",
    "- its a function that returns a sequence of values back. It uses \"Yield\" to generate the sequence"
   ]
  },
  {
   "cell_type": "code",
   "execution_count": 77,
   "metadata": {},
   "outputs": [
    {
     "name": "stdout",
     "output_type": "stream",
     "text": [
      "\n",
      "===== Generator: Create a sequence range given two numbers =====\n",
      "\n",
      "Return type:  <class 'generator'>\n",
      "Sequence Output:\n",
      "4\n",
      "5\n",
      "6\n",
      "7\n",
      "8\n",
      "9\n"
     ]
    }
   ],
   "source": [
    "print(\"\\n===== Generator: Create a sequence range given two numbers =====\\n\")\n",
    "def customGenerator(x, y):\n",
    "    while(x<y):\n",
    "        yield(x)\n",
    "        x=x+1\n",
    "        \n",
    "result = customGenerator(x=4, y=10)\n",
    "\n",
    "print(\"Return type: \",type(result))\n",
    "print(\"Sequence Output:\")\n",
    "for i in result: print(i)"
   ]
  },
  {
   "cell_type": "markdown",
   "metadata": {},
   "source": [
    "### Custom modules\n",
    "\n",
    "*adding content instead of code below since its multiple files*\n",
    "\n",
    "**Step 1: Create \"mymath.py\"**\n",
    "\n",
    "```python\n",
    "def add(x, y):\n",
    "    return x+y\n",
    "    \n",
    "def diff(x, y):\n",
    "    return x-y\n",
    "```\n",
    "\n",
    "**Step 2: Create \"usesmodule.py\"**\n",
    "\n",
    "```python\n",
    "import mymath\n",
    "\n",
    "print(mymath.add(4, 5))\n",
    "print(mymath.diff(40, 15)\n",
    "```\n",
    "\n",
    "You could also use alias for the module \n",
    "\n",
    "```python\n",
    "import mymath as m\n",
    "\n",
    "print(m.add(4, 5))\n",
    "print(m.diff(40, 15)\n",
    "```\n",
    "\n",
    "You could also use it like this\n",
    "\n",
    "```python\n",
    "from mymath import *\n",
    "\n",
    "print(add(4, 5))\n",
    "print(diff(40, 15)\n",
    "```\n",
    "</span>"
   ]
  },
  {
   "cell_type": "markdown",
   "metadata": {},
   "source": [
    "### List comprehensions\n",
    "It gives an easy to use syntax to create one list from another by applying logic and conditions\n",
    "\n",
    "```\n",
    "l = [expression for item in iterable if condition]\n",
    "```\n",
    "*where expression could be lambda or equation*"
   ]
  },
  {
   "cell_type": "code",
   "execution_count": 95,
   "metadata": {},
   "outputs": [
    {
     "name": "stdout",
     "output_type": "stream",
     "text": [
      "\n",
      "===== ListComprehension: list of cubes =====\n",
      "\n",
      "[1, 8, 27, 64, 125, 216, 343, 512, 729, 1000]\n",
      "\n",
      "===== ListComprehension: list of even numbers b/w 1 and 20 =====\n",
      "\n",
      "[2, 4, 6, 8, 10, 12, 14, 16, 18]\n",
      "\n",
      "===== ListComprehension: product of elements in two different lists =====\n",
      "\n",
      "[6, 14, 24, 36, 50]\n",
      "\n",
      "===== ListComprehension: common elements from two lists =====\n",
      "\n",
      "[1, 2, 5]\n"
     ]
    }
   ],
   "source": [
    "print(\"\\n===== ListComprehension: list of cubes =====\\n\")\n",
    "\n",
    "lst=[]\n",
    "\n",
    "### Without ListComprehension\n",
    "# for i in range(1,11):\n",
    "#    lst.append(i**3)\n",
    "    \n",
    "lst=[x**3 for x in range(1, 11)]\n",
    "print(lst)\n",
    "\n",
    "print(\"\\n===== ListComprehension: list of even numbers b/w 1 and 20 =====\\n\")\n",
    "\n",
    "lst=[]\n",
    "lst=[x for x in range(1, 20) if x%2==0]\n",
    "# other way of doing it\n",
    "# lst=[x for x in range(1, 20, 2)]\n",
    "print(lst)\n",
    "\n",
    "\n",
    "print(\"\\n===== ListComprehension: product of elements in two different lists =====\\n\")\n",
    "\n",
    "z=[]\n",
    "a=[1, 2, 3, 4, 5]\n",
    "b=[6, 7, 8, 9, 10]\n",
    "\n",
    "### Without ListComprehension\n",
    "# for i in range(len(a)):\n",
    "#     z.append(a[i]*b[i])\n",
    "\n",
    "z=[(a[i]*b[i]) for i in range(len(a))]\n",
    "print(z)\n",
    "\n",
    "\n",
    "print(\"\\n===== ListComprehension: common elements from two lists =====\\n\")\n",
    "\n",
    "z=[]\n",
    "a=[1, 2, 3, 4, 5]\n",
    "b=[5, 7, 2, 1, 10]\n",
    "\n",
    "### Without ListComprehension\n",
    "# for x in a:\n",
    "#     if x in b:\n",
    "#         z.append(x)\n",
    "\n",
    "z=[x for x in a if x in b]\n",
    "print(z)\n"
   ]
  },
  {
   "cell_type": "code",
   "execution_count": null,
   "metadata": {},
   "outputs": [],
   "source": []
  }
 ],
 "metadata": {
  "kernelspec": {
   "display_name": "Python 3",
   "language": "python",
   "name": "python3"
  },
  "language_info": {
   "codemirror_mode": {
    "name": "ipython",
    "version": 3
   },
   "file_extension": ".py",
   "mimetype": "text/x-python",
   "name": "python",
   "nbconvert_exporter": "python",
   "pygments_lexer": "ipython3",
   "version": "3.7.3"
  },
  "pycharm": {
   "stem_cell": {
    "cell_type": "raw",
    "metadata": {
     "collapsed": false
    },
    "source": []
   }
  }
 },
 "nbformat": 4,
 "nbformat_minor": 2
}
