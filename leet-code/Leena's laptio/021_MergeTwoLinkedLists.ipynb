{
 "cells": [
  {
   "cell_type": "code",
   "execution_count": null,
   "metadata": {},
   "outputs": [],
   "source": []
  },
  {
   "cell_type": "code",
   "execution_count": 30,
   "metadata": {},
   "outputs": [
    {
     "name": "stdout",
     "output_type": "stream",
     "text": [
      "l1: 1, l2: 2\n",
      "l1: 3, l2: 2\n",
      "l1: 3, l2: 4\n",
      "l1: 5, l2: 4\n",
      "l1: 5, l2: 6\n",
      "--> 5\n",
      "==> 4\n",
      "--> 3\n",
      "==> 2\n",
      "--> 1\n",
      "1\n",
      "2\n",
      "3\n",
      "4\n",
      "5\n",
      "6\n",
      "11\n",
      "12\n"
     ]
    }
   ],
   "source": [
    "class ListNode:\n",
    "    def __init__(self, x):\n",
    "        self.val = x\n",
    "        self.next = None\n",
    "        \n",
    "class Solution:\n",
    "    def merge(self, l1, l2):\n",
    "        if l1 is None:\n",
    "            return l2\n",
    "        if l2 is None:\n",
    "            return l1\n",
    "        print(\"l1: {}, l2: {}\".format(l1.val, l2.val))\n",
    "        if l1.val < l2.val:\n",
    "            l1.next=self.merge(l1.next, l2)\n",
    "            print(\"-->\", l1.val)\n",
    "            return l1\n",
    "        else:\n",
    "            l2.next=self.merge(l1, l2.next)\n",
    "            print(\"==>\", l2.val)\n",
    "            return l2\n",
    "\n",
    "l11=ListNode(1)\n",
    "l12=ListNode(3)\n",
    "l13=ListNode(5)\n",
    "l21=ListNode(2)\n",
    "l22=ListNode(4)\n",
    "l23=ListNode(6)\n",
    "l24=ListNode(11)\n",
    "l25=ListNode(12)\n",
    "l11.next=l12\n",
    "l12.next=l13\n",
    "l21.next=l22\n",
    "l22.next=l23\n",
    "l23.next=l24\n",
    "l24.next=l25\n",
    "\n",
    "s=Solution()\n",
    "x=s.merge(l11, l21)\n",
    "while x is not None:\n",
    "    print(x.val)\n",
    "    x=x.next"
   ]
  },
  {
   "cell_type": "code",
   "execution_count": 60,
   "metadata": {},
   "outputs": [
    {
     "name": "stdout",
     "output_type": "stream",
     "text": [
      "======>>>>>>> text: [['roses are red'], ['violets are blue'], ['all my bases'], ['are belong to you']], i: 0\n",
      "======>>>>>>> text: [['roses are red'], ['violets are blue'], ['all my bases'], ['are belong to you']], i: 1\n",
      "======>>>>>>> text: [['roses are red'], ['violets are blue'], ['all my bases'], ['are belong to you']], i: 2\n",
      "======>>>>>>> text: [['roses are red'], ['violets are blue'], ['all my bases'], ['are belong to you']], i: 3\n",
      "======>>>>>>> text: [['roses are red'], ['violets are blue'], ['all my bases'], ['are belong to you']], i: 4\n",
      "['are belong to you']\n",
      "['all my bases']\n",
      "['violets are blue']\n",
      "['roses are red']\n"
     ]
    }
   ],
   "source": [
    "class Sol:\n",
    "    def printStars(self, n):\n",
    "        if n <=0:\n",
    "            return ''\n",
    "        else:\n",
    "            return self.printStars(n-1)+'*'\n",
    "    \n",
    "    def isPalindrome(self, text):\n",
    "        return self.isPalindromeUtil(0, len(text)-1, text)\n",
    "    \n",
    "    def isPalindromeUtil(self, left, right, text):\n",
    "        if left >= right:\n",
    "            return True\n",
    "        else:\n",
    "            result=self.isPalindromeUtil(left+1, right-1, text) and (text[left]==text[right])\n",
    "            return result\n",
    "    \n",
    "    def binary_iterative(self, N):\n",
    "        result=\"\"\n",
    "        while N>0:\n",
    "            a=N%2\n",
    "            N=int(N/2)\n",
    "            result=str(a)+result\n",
    "        return result\n",
    "    \n",
    "    def binary(self, n):\n",
    "        if n<2:\n",
    "            return str(n)\n",
    "        else:\n",
    "            last=n%2\n",
    "            return self.binary(int(n/2))+str(last)\n",
    "        \n",
    "    def reverse_string(self, text):\n",
    "        if len(text) <= 0:\n",
    "            return \"\"\n",
    "        else:\n",
    "            return self.reverse_string(text[1:]) + text[0]\n",
    "        \n",
    "    def reverse_para(self, text, i):\n",
    "        if i >= len(text):\n",
    "            return\n",
    "        else:\n",
    "            self.reverse_para(text, i+1)\n",
    "            print(text[i])\n",
    "            \n",
    "            \n",
    "\n",
    "\n",
    "s=Sol()\n",
    "s.binary(11)\n",
    "s.reverse_string(\"abcdefghi\")\n",
    "s.reverse_para([[\"roses are red\"],[\"violets are blue\"], [\"all my bases\"], [\"are belong to you\"]], 0)"
   ]
  },
  {
   "cell_type": "code",
   "execution_count": 78,
   "metadata": {},
   "outputs": [
    {
     "name": "stdout",
     "output_type": "stream",
     "text": [
      "/Users/Dolphy/Desktop/aaa\n",
      "   /Users/Dolphy/Desktop/aaa/.DS_Store\n",
      "   /Users/Dolphy/Desktop/aaa/baba\n",
      "      /Users/Dolphy/Desktop/aaa/baba/baba121.json\n",
      "      /Users/Dolphy/Desktop/aaa/baba/baba123.json\n",
      "      /Users/Dolphy/Desktop/aaa/baba/baba124.json\n",
      "   /Users/Dolphy/Desktop/aaa/1.json\n",
      "   /Users/Dolphy/Desktop/aaa/2.json\n",
      "   /Users/Dolphy/Desktop/aaa/aba\n",
      "      /Users/Dolphy/Desktop/aaa/aba/aba3.json\n",
      "      /Users/Dolphy/Desktop/aaa/aba/aba2.json\n",
      "      /Users/Dolphy/Desktop/aaa/aba/aba4.json\n",
      "   /Users/Dolphy/Desktop/aaa/3.json\n",
      "   /Users/Dolphy/Desktop/aaa/4.json\n"
     ]
    }
   ],
   "source": [
    "import os\n",
    "\n",
    "class Sol:\n",
    "    def crawl(self, item, level):\n",
    "        if not os.path.exists(item):\n",
    "            return\n",
    "        else:\n",
    "            s=\"   \"*level\n",
    "            v=\"{}{}\".format(s, item)\n",
    "            print(v)\n",
    "            if os.path.isdir(item):\n",
    "                for x in os.listdir(item):\n",
    "                    self.crawl(item+\"/\"+x, level+1)\n",
    "\n",
    "os.listdir(\"/Users/Dolphy/Desktop/aaa\")\n",
    "s=Sol()\n",
    "s.crawl(\"/Users/Dolphy/Desktop/aaa\", 0)"
   ]
  },
  {
   "cell_type": "code",
   "execution_count": null,
   "metadata": {},
   "outputs": [],
   "source": []
  },
  {
   "cell_type": "code",
   "execution_count": null,
   "metadata": {},
   "outputs": [],
   "source": []
  },
  {
   "cell_type": "code",
   "execution_count": null,
   "metadata": {},
   "outputs": [],
   "source": []
  },
  {
   "cell_type": "code",
   "execution_count": null,
   "metadata": {},
   "outputs": [],
   "source": []
  }
 ],
 "metadata": {
  "kernelspec": {
   "display_name": "Python 3",
   "language": "python",
   "name": "python3"
  },
  "language_info": {
   "codemirror_mode": {
    "name": "ipython",
    "version": 3
   },
   "file_extension": ".py",
   "mimetype": "text/x-python",
   "name": "python",
   "nbconvert_exporter": "python",
   "pygments_lexer": "ipython3",
   "version": "3.7.3"
  }
 },
 "nbformat": 4,
 "nbformat_minor": 2
}
