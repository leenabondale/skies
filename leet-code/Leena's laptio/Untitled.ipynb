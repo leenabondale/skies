{
 "cells": [
  {
   "cell_type": "code",
   "execution_count": null,
   "metadata": {},
   "outputs": [],
   "source": []
  },
  {
   "cell_type": "code",
   "execution_count": 3,
   "metadata": {},
   "outputs": [
    {
     "name": "stdout",
     "output_type": "stream",
     "text": [
      "56088\n"
     ]
    }
   ],
   "source": [
    "class Solution:\n",
    "    def multiply(self, num1: str, num2: str) -> str:\n",
    "        num1val=self.generateNumber(num1)\n",
    "        num2val=self.generateNumber(num2)\n",
    "        return num1val*num2val\n",
    "        \n",
    "    def generateNumber(self, num: str) -> int:\n",
    "        numval=0\n",
    "        while len(num) > 0:\n",
    "            numval=numval*10+int(num[0])\n",
    "            num=num[1:]\n",
    "            \n",
    "        return numval\n",
    "        \n",
    "s=Solution()\n",
    "print(s.multiply(\"123\", \"456\"))\n",
    "            "
   ]
  },
  {
   "cell_type": "code",
   "execution_count": null,
   "metadata": {},
   "outputs": [],
   "source": []
  }
 ],
 "metadata": {
  "kernelspec": {
   "display_name": "Python 3",
   "language": "python",
   "name": "python3"
  },
  "language_info": {
   "codemirror_mode": {
    "name": "ipython",
    "version": 3
   },
   "file_extension": ".py",
   "mimetype": "text/x-python",
   "name": "python",
   "nbconvert_exporter": "python",
   "pygments_lexer": "ipython3",
   "version": "3.7.3"
  }
 },
 "nbformat": 4,
 "nbformat_minor": 2
}
