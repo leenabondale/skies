{
 "cells": [
  {
   "cell_type": "markdown",
   "metadata": {},
   "source": [
    "## RECURSION WOKE!!!!\n",
    "1. I read this video from \"Think like a programmer\". Changed my view on Recursion drastically  \n",
    "    -> https://www.youtube.com/watch?v=oKndim5-G94  \n",
    "      \n",
    "2. After watching this, I jumped onto Stanford course here from Marty Stepp  \n",
    "   -> https://www.youtube.com/watch?v=9vIyTn7ayac (part 1) and  \n",
    "   -> https://www.youtube.com/watch?v=XYubfcyLrBY (part 2) \n",
    "\n",
    "Below are the programs written while watching the videos. "
   ]
  },
  {
   "cell_type": "code",
   "execution_count": 1,
   "metadata": {},
   "outputs": [
    {
     "data": {
      "text/plain": [
       "'************'"
      ]
     },
     "execution_count": 1,
     "metadata": {},
     "output_type": "execute_result"
    }
   ],
   "source": [
    "class Sol:\n",
    "    def printStars(self, n):\n",
    "        if n <=0:\n",
    "            return ''\n",
    "        else:\n",
    "            return self.printStars(n-1)+'*'\n",
    "    \n",
    "s=Sol()\n",
    "s.printStars(12)"
   ]
  },
  {
   "cell_type": "code",
   "execution_count": 2,
   "metadata": {},
   "outputs": [
    {
     "data": {
      "text/plain": [
       "True"
      ]
     },
     "execution_count": 2,
     "metadata": {},
     "output_type": "execute_result"
    }
   ],
   "source": [
    "class Solution:\n",
    "    def isPalindrome(self, text):\n",
    "        return self.isPalindromeUtil(0, len(text)-1, text)\n",
    "    \n",
    "    def isPalindromeUtil(self, left, right, text):\n",
    "        if left >= right:\n",
    "            return True\n",
    "        else:\n",
    "            result=self.isPalindromeUtil(left+1, right-1, text) and (text[left]==text[right])\n",
    "            return result\n",
    "\n",
    "s=Solution()\n",
    "s.isPalindrome(\"abcdedcba\")"
   ]
  },
  {
   "cell_type": "code",
   "execution_count": 5,
   "metadata": {},
   "outputs": [
    {
     "name": "stdout",
     "output_type": "stream",
     "text": [
      "Running binary iteratively... 1111\n",
      "Running binary recursively... 1111\n"
     ]
    }
   ],
   "source": [
    "class Solution:\n",
    "    def binary_iterative(self, N):\n",
    "        result=\"\"\n",
    "        while N>0:\n",
    "            a=N%2\n",
    "            N=int(N/2)\n",
    "            result=str(a)+result\n",
    "        return result\n",
    "    \n",
    "    def binary(self, n):\n",
    "        if n<2:\n",
    "            return str(n)\n",
    "        else:\n",
    "            last=n%2\n",
    "            return self.binary(int(n/2))+str(last)\n",
    "        \n",
    "s=Solution()\n",
    "print(\"Running binary iteratively...\", s.binary_iterative(15))\n",
    "print(\"Running binary recursively...\", s.binary(15))"
   ]
  },
  {
   "cell_type": "code",
   "execution_count": 10,
   "metadata": {},
   "outputs": [
    {
     "name": "stdout",
     "output_type": "stream",
     "text": [
      "Reverse string: ihgfedcba\n",
      "\n",
      "Reverse paragraph:\n",
      "['are belong to you']\n",
      "['all my bases']\n",
      "['violets are blue']\n",
      "['roses are red']\n"
     ]
    }
   ],
   "source": [
    "class Solution:\n",
    "    def reverse_string(self, text):\n",
    "        if len(text) <= 0:\n",
    "            return \"\"\n",
    "        else:\n",
    "            return self.reverse_string(text[1:]) + text[0]\n",
    "        \n",
    "    def reverse_para(self, text, i=0):\n",
    "        if i >= len(text):\n",
    "            return\n",
    "        else:\n",
    "            self.reverse_para(text, i+1)\n",
    "            print(text[i])\n",
    "\n",
    "s=Solution()\n",
    "print(\"Reverse string:\", s.reverse_string(\"abcdefghi\"))\n",
    "print(\"\\nReverse paragraph:\")\n",
    "s.reverse_para([[\"roses are red\"],[\"violets are blue\"], [\"all my bases\"], [\"are belong to you\"]])"
   ]
  },
  {
   "cell_type": "code",
   "execution_count": 13,
   "metadata": {},
   "outputs": [
    {
     "name": "stdout",
     "output_type": "stream",
     "text": [
      "/Users/Dolphy/Desktop/aaa\n",
      "   /Users/Dolphy/Desktop/aaa/.DS_Store\n",
      "   /Users/Dolphy/Desktop/aaa/baba\n",
      "      /Users/Dolphy/Desktop/aaa/baba/baba121.json\n",
      "      /Users/Dolphy/Desktop/aaa/baba/baba123.json\n",
      "      /Users/Dolphy/Desktop/aaa/baba/baba124.json\n",
      "   /Users/Dolphy/Desktop/aaa/1.json\n",
      "   /Users/Dolphy/Desktop/aaa/2.json\n",
      "   /Users/Dolphy/Desktop/aaa/aba\n",
      "      /Users/Dolphy/Desktop/aaa/aba/aba3.json\n",
      "      /Users/Dolphy/Desktop/aaa/aba/aba2.json\n",
      "      /Users/Dolphy/Desktop/aaa/aba/aba4.json\n",
      "   /Users/Dolphy/Desktop/aaa/3.json\n",
      "   /Users/Dolphy/Desktop/aaa/4.json\n"
     ]
    }
   ],
   "source": [
    "import os\n",
    "\n",
    "class Sol:\n",
    "    def crawl(self, item, level=0):\n",
    "        if not os.path.exists(item):\n",
    "            print()\n",
    "        else:\n",
    "            s=\"   \"*level\n",
    "            v=\"{}{}\".format(s, item)\n",
    "            print(v)\n",
    "            if os.path.isdir(item):\n",
    "                for x in os.listdir(item):\n",
    "                    self.crawl(item+\"/\"+x, level+1)\n",
    "\n",
    "os.listdir(\"/Users/Dolphy/Desktop/aaa\")\n",
    "s=Sol()\n",
    "s.crawl(\"/Users/Dolphy/Desktop/aaa\")"
   ]
  },
  {
   "cell_type": "code",
   "execution_count": null,
   "metadata": {},
   "outputs": [],
   "source": []
  }
 ],
 "metadata": {
  "kernelspec": {
   "display_name": "Python 3",
   "language": "python",
   "name": "python3"
  },
  "language_info": {
   "codemirror_mode": {
    "name": "ipython",
    "version": 3
   },
   "file_extension": ".py",
   "mimetype": "text/x-python",
   "name": "python",
   "nbconvert_exporter": "python",
   "pygments_lexer": "ipython3",
   "version": "3.7.3"
  }
 },
 "nbformat": 4,
 "nbformat_minor": 2
}
