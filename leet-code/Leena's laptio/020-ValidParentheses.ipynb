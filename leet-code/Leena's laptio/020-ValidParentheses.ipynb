{
 "cells": [
  {
   "cell_type": "code",
   "execution_count": 8,
   "metadata": {},
   "outputs": [
    {
     "name": "stdout",
     "output_type": "stream",
     "text": [
      "()()()\n",
      "()(())\n",
      "(())()\n",
      "(()())\n",
      "((()))\n"
     ]
    }
   ],
   "source": [
    "class Solution:\n",
    "    \n",
    "    def validParenthesis(self, N):\n",
    "        self.validParenUtil(0, 0, N, \"\")\n",
    "    \n",
    "    def validParenUtil(self, openp, closep, N, result):\n",
    "        if closep == N and openp==N:\n",
    "            print(result)\n",
    "        if closep > openp or openp > N:\n",
    "            return\n",
    "        else:\n",
    "            self.validParenUtil(openp, closep+1, N, result+')')\n",
    "            self.validParenUtil(openp+1, closep, N, result+'(')\n",
    "                \n",
    "s=Solution()\n",
    "s.validParenthesis(3)"
   ]
  },
  {
   "cell_type": "code",
   "execution_count": null,
   "metadata": {},
   "outputs": [],
   "source": []
  }
 ],
 "metadata": {
  "kernelspec": {
   "display_name": "Python 3",
   "language": "python",
   "name": "python3"
  },
  "language_info": {
   "codemirror_mode": {
    "name": "ipython",
    "version": 3
   },
   "file_extension": ".py",
   "mimetype": "text/x-python",
   "name": "python",
   "nbconvert_exporter": "python",
   "pygments_lexer": "ipython3",
   "version": "3.7.3"
  }
 },
 "nbformat": 4,
 "nbformat_minor": 2
}
