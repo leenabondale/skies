{
 "cells": [
  {
   "cell_type": "code",
   "execution_count": null,
   "metadata": {},
   "outputs": [],
   "source": [
    "class Solution:\n",
    "    def searchInsert(self, nums, target) -> int:\n",
    "        response=0\n",
    "        for i in range(0, len(nums)):\n",
    "#             print(i, nums[i], target)\n",
    "            if nums[i] > target:\n",
    "#                 print(\">>>>>>\", i, nums[i], target)\n",
    "                response=i\n",
    "                break\n",
    "        return response\n",
    "    \n",
    "s=Solution()\n",
    "s.searchInsert([1,3,5,6,7], 6)"
   ]
  }
 ],
 "metadata": {
  "kernelspec": {
   "display_name": "Python 3",
   "language": "python",
   "name": "python3"
  },
  "language_info": {
   "codemirror_mode": {
    "name": "ipython",
    "version": 3
   },
   "file_extension": ".py",
   "mimetype": "text/x-python",
   "name": "python",
   "nbconvert_exporter": "python",
   "pygments_lexer": "ipython3",
   "version": "3.7.3"
  }
 },
 "nbformat": 4,
 "nbformat_minor": 2
}
